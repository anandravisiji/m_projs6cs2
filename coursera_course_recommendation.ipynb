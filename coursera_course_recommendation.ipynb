{
  "cells": [
    {
      "cell_type": "markdown",
      "id": "198997c5",
      "metadata": {
        "papermill": {
          "duration": 0.049216,
          "end_time": "2022-01-26T14:19:43.233990",
          "exception": false,
          "start_time": "2022-01-26T14:19:43.184774",
          "status": "completed"
        },
        "tags": [],
        "id": "198997c5"
      },
      "source": [
        "# Importing Dependencies"
      ]
    },
    {
      "cell_type": "code",
      "execution_count": null,
      "id": "f75344c5",
      "metadata": {
        "execution": {
          "iopub.execute_input": "2022-01-26T14:19:43.344315Z",
          "iopub.status.busy": "2022-01-26T14:19:43.343625Z",
          "iopub.status.idle": "2022-01-26T14:19:44.396797Z",
          "shell.execute_reply": "2022-01-26T14:19:44.396055Z",
          "shell.execute_reply.started": "2022-01-26T12:46:03.692767Z"
        },
        "papermill": {
          "duration": 1.112674,
          "end_time": "2022-01-26T14:19:44.396964",
          "exception": false,
          "start_time": "2022-01-26T14:19:43.284290",
          "status": "completed"
        },
        "tags": [],
        "colab": {
          "base_uri": "https://localhost:8080/"
        },
        "id": "f75344c5",
        "outputId": "c13ca6e6-32b5-4565-c0ca-e79c4f36b52f"
      },
      "outputs": [
        {
          "output_type": "stream",
          "name": "stdout",
          "text": [
            "Dependencies Imported\n"
          ]
        }
      ],
      "source": [
        "import os\n",
        "import numpy as np\n",
        "import pandas as pd\n",
        "import matplotlib.pyplot as plt\n",
        "import seaborn as sns\n",
        "print('Dependencies Imported')"
      ]
    },
    {
      "cell_type": "markdown",
      "source": [],
      "metadata": {
        "id": "oq3uVn_hBobb"
      },
      "id": "oq3uVn_hBobb"
    },
    {
      "cell_type": "code",
      "execution_count": null,
      "id": "e3536ee1",
      "metadata": {
        "execution": {
          "iopub.execute_input": "2022-01-26T14:19:44.502712Z",
          "iopub.status.busy": "2022-01-26T14:19:44.501653Z",
          "iopub.status.idle": "2022-01-26T14:19:44.700849Z",
          "shell.execute_reply": "2022-01-26T14:19:44.701361Z",
          "shell.execute_reply.started": "2022-01-26T12:46:47.573105Z"
        },
        "papermill": {
          "duration": 0.253163,
          "end_time": "2022-01-26T14:19:44.701566",
          "exception": false,
          "start_time": "2022-01-26T14:19:44.448403",
          "status": "completed"
        },
        "tags": [],
        "collapsed": true,
        "colab": {
          "base_uri": "https://localhost:8080/",
          "height": 310
        },
        "id": "e3536ee1",
        "outputId": "8ddd5ef3-d6a4-4407-c3c9-5282ba53d1fb"
      },
      "outputs": [
        {
          "output_type": "execute_result",
          "data": {
            "text/plain": [
              "                                         Course Name  \\\n",
              "0  Write A Feature Length Screenplay For Film Or ...   \n",
              "1  Business Strategy: Business Model Canvas Analy...   \n",
              "2                      Silicon Thin Film Solar Cells   \n",
              "3                               Finance for Managers   \n",
              "4       Retrieve Data using Single-Table SQL Queries   \n",
              "\n",
              "                  University Difficulty Level Course Rating  \\\n",
              "0  Michigan State University         Beginner           4.8   \n",
              "1   Coursera Project Network         Beginner           4.8   \n",
              "2        �cole Polytechnique         Advanced           4.1   \n",
              "3       IESE Business School     Intermediate           4.8   \n",
              "4   Coursera Project Network         Beginner           4.6   \n",
              "\n",
              "                                          Course URL  \\\n",
              "0  https://www.coursera.org/learn/write-a-feature...   \n",
              "1  https://www.coursera.org/learn/canvas-analysis...   \n",
              "2  https://www.coursera.org/learn/silicon-thin-fi...   \n",
              "3  https://www.coursera.org/learn/operational-fin...   \n",
              "4  https://www.coursera.org/learn/single-table-sq...   \n",
              "\n",
              "                                  Course Description  \\\n",
              "0  Write a Full Length Feature Film Script  In th...   \n",
              "1  By the end of this guided project, you will be...   \n",
              "2  This course consists of a general presentation...   \n",
              "3  When it comes to numbers, there is always more...   \n",
              "4  In this course you�ll learn how to effectively...   \n",
              "\n",
              "                                              Skills  \n",
              "0  Drama  Comedy  peering  screenwriting  film  D...  \n",
              "1  Finance  business plan  persona (user experien...  \n",
              "2  chemistry  physics  Solar Energy  film  lambda...  \n",
              "3  accounts receivable  dupont analysis  analysis...  \n",
              "4  Data Analysis  select (sql)  database manageme...  "
            ],
            "text/html": [
              "\n",
              "  <div id=\"df-3e2a8943-f42e-423c-96a1-d8b247650a45\" class=\"colab-df-container\">\n",
              "    <div>\n",
              "<style scoped>\n",
              "    .dataframe tbody tr th:only-of-type {\n",
              "        vertical-align: middle;\n",
              "    }\n",
              "\n",
              "    .dataframe tbody tr th {\n",
              "        vertical-align: top;\n",
              "    }\n",
              "\n",
              "    .dataframe thead th {\n",
              "        text-align: right;\n",
              "    }\n",
              "</style>\n",
              "<table border=\"1\" class=\"dataframe\">\n",
              "  <thead>\n",
              "    <tr style=\"text-align: right;\">\n",
              "      <th></th>\n",
              "      <th>Course Name</th>\n",
              "      <th>University</th>\n",
              "      <th>Difficulty Level</th>\n",
              "      <th>Course Rating</th>\n",
              "      <th>Course URL</th>\n",
              "      <th>Course Description</th>\n",
              "      <th>Skills</th>\n",
              "    </tr>\n",
              "  </thead>\n",
              "  <tbody>\n",
              "    <tr>\n",
              "      <th>0</th>\n",
              "      <td>Write A Feature Length Screenplay For Film Or ...</td>\n",
              "      <td>Michigan State University</td>\n",
              "      <td>Beginner</td>\n",
              "      <td>4.8</td>\n",
              "      <td>https://www.coursera.org/learn/write-a-feature...</td>\n",
              "      <td>Write a Full Length Feature Film Script  In th...</td>\n",
              "      <td>Drama  Comedy  peering  screenwriting  film  D...</td>\n",
              "    </tr>\n",
              "    <tr>\n",
              "      <th>1</th>\n",
              "      <td>Business Strategy: Business Model Canvas Analy...</td>\n",
              "      <td>Coursera Project Network</td>\n",
              "      <td>Beginner</td>\n",
              "      <td>4.8</td>\n",
              "      <td>https://www.coursera.org/learn/canvas-analysis...</td>\n",
              "      <td>By the end of this guided project, you will be...</td>\n",
              "      <td>Finance  business plan  persona (user experien...</td>\n",
              "    </tr>\n",
              "    <tr>\n",
              "      <th>2</th>\n",
              "      <td>Silicon Thin Film Solar Cells</td>\n",
              "      <td>�cole Polytechnique</td>\n",
              "      <td>Advanced</td>\n",
              "      <td>4.1</td>\n",
              "      <td>https://www.coursera.org/learn/silicon-thin-fi...</td>\n",
              "      <td>This course consists of a general presentation...</td>\n",
              "      <td>chemistry  physics  Solar Energy  film  lambda...</td>\n",
              "    </tr>\n",
              "    <tr>\n",
              "      <th>3</th>\n",
              "      <td>Finance for Managers</td>\n",
              "      <td>IESE Business School</td>\n",
              "      <td>Intermediate</td>\n",
              "      <td>4.8</td>\n",
              "      <td>https://www.coursera.org/learn/operational-fin...</td>\n",
              "      <td>When it comes to numbers, there is always more...</td>\n",
              "      <td>accounts receivable  dupont analysis  analysis...</td>\n",
              "    </tr>\n",
              "    <tr>\n",
              "      <th>4</th>\n",
              "      <td>Retrieve Data using Single-Table SQL Queries</td>\n",
              "      <td>Coursera Project Network</td>\n",
              "      <td>Beginner</td>\n",
              "      <td>4.6</td>\n",
              "      <td>https://www.coursera.org/learn/single-table-sq...</td>\n",
              "      <td>In this course you�ll learn how to effectively...</td>\n",
              "      <td>Data Analysis  select (sql)  database manageme...</td>\n",
              "    </tr>\n",
              "  </tbody>\n",
              "</table>\n",
              "</div>\n",
              "    <div class=\"colab-df-buttons\">\n",
              "\n",
              "  <div class=\"colab-df-container\">\n",
              "    <button class=\"colab-df-convert\" onclick=\"convertToInteractive('df-3e2a8943-f42e-423c-96a1-d8b247650a45')\"\n",
              "            title=\"Convert this dataframe to an interactive table.\"\n",
              "            style=\"display:none;\">\n",
              "\n",
              "  <svg xmlns=\"http://www.w3.org/2000/svg\" height=\"24px\" viewBox=\"0 -960 960 960\">\n",
              "    <path d=\"M120-120v-720h720v720H120Zm60-500h600v-160H180v160Zm220 220h160v-160H400v160Zm0 220h160v-160H400v160ZM180-400h160v-160H180v160Zm440 0h160v-160H620v160ZM180-180h160v-160H180v160Zm440 0h160v-160H620v160Z\"/>\n",
              "  </svg>\n",
              "    </button>\n",
              "\n",
              "  <style>\n",
              "    .colab-df-container {\n",
              "      display:flex;\n",
              "      gap: 12px;\n",
              "    }\n",
              "\n",
              "    .colab-df-convert {\n",
              "      background-color: #E8F0FE;\n",
              "      border: none;\n",
              "      border-radius: 50%;\n",
              "      cursor: pointer;\n",
              "      display: none;\n",
              "      fill: #1967D2;\n",
              "      height: 32px;\n",
              "      padding: 0 0 0 0;\n",
              "      width: 32px;\n",
              "    }\n",
              "\n",
              "    .colab-df-convert:hover {\n",
              "      background-color: #E2EBFA;\n",
              "      box-shadow: 0px 1px 2px rgba(60, 64, 67, 0.3), 0px 1px 3px 1px rgba(60, 64, 67, 0.15);\n",
              "      fill: #174EA6;\n",
              "    }\n",
              "\n",
              "    .colab-df-buttons div {\n",
              "      margin-bottom: 4px;\n",
              "    }\n",
              "\n",
              "    [theme=dark] .colab-df-convert {\n",
              "      background-color: #3B4455;\n",
              "      fill: #D2E3FC;\n",
              "    }\n",
              "\n",
              "    [theme=dark] .colab-df-convert:hover {\n",
              "      background-color: #434B5C;\n",
              "      box-shadow: 0px 1px 3px 1px rgba(0, 0, 0, 0.15);\n",
              "      filter: drop-shadow(0px 1px 2px rgba(0, 0, 0, 0.3));\n",
              "      fill: #FFFFFF;\n",
              "    }\n",
              "  </style>\n",
              "\n",
              "    <script>\n",
              "      const buttonEl =\n",
              "        document.querySelector('#df-3e2a8943-f42e-423c-96a1-d8b247650a45 button.colab-df-convert');\n",
              "      buttonEl.style.display =\n",
              "        google.colab.kernel.accessAllowed ? 'block' : 'none';\n",
              "\n",
              "      async function convertToInteractive(key) {\n",
              "        const element = document.querySelector('#df-3e2a8943-f42e-423c-96a1-d8b247650a45');\n",
              "        const dataTable =\n",
              "          await google.colab.kernel.invokeFunction('convertToInteractive',\n",
              "                                                    [key], {});\n",
              "        if (!dataTable) return;\n",
              "\n",
              "        const docLinkHtml = 'Like what you see? Visit the ' +\n",
              "          '<a target=\"_blank\" href=https://colab.research.google.com/notebooks/data_table.ipynb>data table notebook</a>'\n",
              "          + ' to learn more about interactive tables.';\n",
              "        element.innerHTML = '';\n",
              "        dataTable['output_type'] = 'display_data';\n",
              "        await google.colab.output.renderOutput(dataTable, element);\n",
              "        const docLink = document.createElement('div');\n",
              "        docLink.innerHTML = docLinkHtml;\n",
              "        element.appendChild(docLink);\n",
              "      }\n",
              "    </script>\n",
              "  </div>\n",
              "\n",
              "\n",
              "<div id=\"df-a1b386c1-9591-4963-b3e3-4b9d1cdbaa86\">\n",
              "  <button class=\"colab-df-quickchart\" onclick=\"quickchart('df-a1b386c1-9591-4963-b3e3-4b9d1cdbaa86')\"\n",
              "            title=\"Suggest charts\"\n",
              "            style=\"display:none;\">\n",
              "\n",
              "<svg xmlns=\"http://www.w3.org/2000/svg\" height=\"24px\"viewBox=\"0 0 24 24\"\n",
              "     width=\"24px\">\n",
              "    <g>\n",
              "        <path d=\"M19 3H5c-1.1 0-2 .9-2 2v14c0 1.1.9 2 2 2h14c1.1 0 2-.9 2-2V5c0-1.1-.9-2-2-2zM9 17H7v-7h2v7zm4 0h-2V7h2v10zm4 0h-2v-4h2v4z\"/>\n",
              "    </g>\n",
              "</svg>\n",
              "  </button>\n",
              "\n",
              "<style>\n",
              "  .colab-df-quickchart {\n",
              "      --bg-color: #E8F0FE;\n",
              "      --fill-color: #1967D2;\n",
              "      --hover-bg-color: #E2EBFA;\n",
              "      --hover-fill-color: #174EA6;\n",
              "      --disabled-fill-color: #AAA;\n",
              "      --disabled-bg-color: #DDD;\n",
              "  }\n",
              "\n",
              "  [theme=dark] .colab-df-quickchart {\n",
              "      --bg-color: #3B4455;\n",
              "      --fill-color: #D2E3FC;\n",
              "      --hover-bg-color: #434B5C;\n",
              "      --hover-fill-color: #FFFFFF;\n",
              "      --disabled-bg-color: #3B4455;\n",
              "      --disabled-fill-color: #666;\n",
              "  }\n",
              "\n",
              "  .colab-df-quickchart {\n",
              "    background-color: var(--bg-color);\n",
              "    border: none;\n",
              "    border-radius: 50%;\n",
              "    cursor: pointer;\n",
              "    display: none;\n",
              "    fill: var(--fill-color);\n",
              "    height: 32px;\n",
              "    padding: 0;\n",
              "    width: 32px;\n",
              "  }\n",
              "\n",
              "  .colab-df-quickchart:hover {\n",
              "    background-color: var(--hover-bg-color);\n",
              "    box-shadow: 0 1px 2px rgba(60, 64, 67, 0.3), 0 1px 3px 1px rgba(60, 64, 67, 0.15);\n",
              "    fill: var(--button-hover-fill-color);\n",
              "  }\n",
              "\n",
              "  .colab-df-quickchart-complete:disabled,\n",
              "  .colab-df-quickchart-complete:disabled:hover {\n",
              "    background-color: var(--disabled-bg-color);\n",
              "    fill: var(--disabled-fill-color);\n",
              "    box-shadow: none;\n",
              "  }\n",
              "\n",
              "  .colab-df-spinner {\n",
              "    border: 2px solid var(--fill-color);\n",
              "    border-color: transparent;\n",
              "    border-bottom-color: var(--fill-color);\n",
              "    animation:\n",
              "      spin 1s steps(1) infinite;\n",
              "  }\n",
              "\n",
              "  @keyframes spin {\n",
              "    0% {\n",
              "      border-color: transparent;\n",
              "      border-bottom-color: var(--fill-color);\n",
              "      border-left-color: var(--fill-color);\n",
              "    }\n",
              "    20% {\n",
              "      border-color: transparent;\n",
              "      border-left-color: var(--fill-color);\n",
              "      border-top-color: var(--fill-color);\n",
              "    }\n",
              "    30% {\n",
              "      border-color: transparent;\n",
              "      border-left-color: var(--fill-color);\n",
              "      border-top-color: var(--fill-color);\n",
              "      border-right-color: var(--fill-color);\n",
              "    }\n",
              "    40% {\n",
              "      border-color: transparent;\n",
              "      border-right-color: var(--fill-color);\n",
              "      border-top-color: var(--fill-color);\n",
              "    }\n",
              "    60% {\n",
              "      border-color: transparent;\n",
              "      border-right-color: var(--fill-color);\n",
              "    }\n",
              "    80% {\n",
              "      border-color: transparent;\n",
              "      border-right-color: var(--fill-color);\n",
              "      border-bottom-color: var(--fill-color);\n",
              "    }\n",
              "    90% {\n",
              "      border-color: transparent;\n",
              "      border-bottom-color: var(--fill-color);\n",
              "    }\n",
              "  }\n",
              "</style>\n",
              "\n",
              "  <script>\n",
              "    async function quickchart(key) {\n",
              "      const quickchartButtonEl =\n",
              "        document.querySelector('#' + key + ' button');\n",
              "      quickchartButtonEl.disabled = true;  // To prevent multiple clicks.\n",
              "      quickchartButtonEl.classList.add('colab-df-spinner');\n",
              "      try {\n",
              "        const charts = await google.colab.kernel.invokeFunction(\n",
              "            'suggestCharts', [key], {});\n",
              "      } catch (error) {\n",
              "        console.error('Error during call to suggestCharts:', error);\n",
              "      }\n",
              "      quickchartButtonEl.classList.remove('colab-df-spinner');\n",
              "      quickchartButtonEl.classList.add('colab-df-quickchart-complete');\n",
              "    }\n",
              "    (() => {\n",
              "      let quickchartButtonEl =\n",
              "        document.querySelector('#df-a1b386c1-9591-4963-b3e3-4b9d1cdbaa86 button');\n",
              "      quickchartButtonEl.style.display =\n",
              "        google.colab.kernel.accessAllowed ? 'block' : 'none';\n",
              "    })();\n",
              "  </script>\n",
              "</div>\n",
              "\n",
              "    </div>\n",
              "  </div>\n"
            ],
            "application/vnd.google.colaboratory.intrinsic+json": {
              "type": "dataframe",
              "variable_name": "data",
              "summary": "{\n  \"name\": \"data\",\n  \"rows\": 3522,\n  \"fields\": [\n    {\n      \"column\": \"Course Name\",\n      \"properties\": {\n        \"dtype\": \"string\",\n        \"num_unique_values\": 3416,\n        \"samples\": [\n          \"Create a Record of Students using Arrays in Java\",\n          \"Fundamentals of financial and management accounting\",\n          \"When Disaster Meets Conflict\"\n        ],\n        \"semantic_type\": \"\",\n        \"description\": \"\"\n      }\n    },\n    {\n      \"column\": \"University\",\n      \"properties\": {\n        \"dtype\": \"category\",\n        \"num_unique_values\": 184,\n        \"samples\": [\n          \"The University of Edinburgh\",\n          \"American Museum of Natural History\",\n          \"Alibaba Cloud Academy\"\n        ],\n        \"semantic_type\": \"\",\n        \"description\": \"\"\n      }\n    },\n    {\n      \"column\": \"Difficulty Level\",\n      \"properties\": {\n        \"dtype\": \"category\",\n        \"num_unique_values\": 5,\n        \"samples\": [\n          \"Advanced\",\n          \"Conversant\",\n          \"Intermediate\"\n        ],\n        \"semantic_type\": \"\",\n        \"description\": \"\"\n      }\n    },\n    {\n      \"column\": \"Course Rating\",\n      \"properties\": {\n        \"dtype\": \"category\",\n        \"num_unique_values\": 31,\n        \"samples\": [\n          \"2.4\",\n          \"3.7\",\n          \"2\"\n        ],\n        \"semantic_type\": \"\",\n        \"description\": \"\"\n      }\n    },\n    {\n      \"column\": \"Course URL\",\n      \"properties\": {\n        \"dtype\": \"string\",\n        \"num_unique_values\": 3424,\n        \"samples\": [\n          \"https://www.coursera.org/learn/city-and-you-find-best-place\",\n          \"https://www.coursera.org/learn/user-research\",\n          \"https://www.coursera.org/learn/people-management\"\n        ],\n        \"semantic_type\": \"\",\n        \"description\": \"\"\n      }\n    },\n    {\n      \"column\": \"Course Description\",\n      \"properties\": {\n        \"dtype\": \"string\",\n        \"num_unique_values\": 3397,\n        \"samples\": [\n          \"This course can also be taken for academic credit as ECEA 5317, part of CU Boulder\\ufffds Master of Science in Electrical Engineering degree.  Upon completion of this course the learner will know the difference between systems you can bet your life on (mission critical) and those which provide predictable response and quality of service (reliable).  This will be achieved not only by study of design methods and patterns for mission critical systems, but also through implementation of soft real-time systems and comparison to hard real-time.  Methods of verification to determine ability to meet mission critical as well as soft real-time requirements will be learned so that the learner can properly assess risk, reliability and impact of failure in real-time systems.  At the end of this course learners will be able to apply an architectural style (cyclic executive, RTOS, or embedded Linux) to more detailed design of a mission critical system, a soft real-time system, or a mixed hard and soft real-time system, including:  ?\\\\tThorough understanding of hardware/software device interfaces and resource view for hardware abstraction layers (HAL, BSP) ?\\\\tDesign trade-offs with different real-time hardware architectures including single core, multi-core, hybrid-FPGA, GP-GPU, and DSP systems, with emphasis on multi-core ?\\\\tMission critical embedded systems architecture and key design elements ?\\\\tFault tolerant processing, memory, and I/O concepts\",\n          \"Financial Accounting is often called the language of business; it is the language that managers use to communicate the firm's financial and economic information to external parties such as shareholders and creditors. Nobody working in business can afford financial illiteracy. Whether you run your own business, work as a manager or are just starting your career, you want to understand financial information and be able to interact with accountants, controllers, and financial managers. You want to talk business!   This course will provide you with the accounting language's essentials. Upon completion, you should be able to read and interpret financial statements for business diagnosis and decision-making. More importantly, you will possess the conceptual base to keep learning more sophisticated accounting and finance on your own. Do not forget that, as with any other language, becoming proficient with accounting requires constant practice.\",\n          \"Build on the software engineering skills you learned in \\ufffdJava Programming: Solving Problems with Software\\ufffd by learning new data structures. Use these data structures to build more complex programs that use Java\\ufffds object-oriented features. At the end of the course you will write an encryption program and a program to break your encryption algorithm.  After completing this course, you will be able to: 1. Read and write data from/to files; 2. Solve problems involving data files; 3. Perform quantitative analyses of data (e.g., finding maximums, minimums, averages);  4. Store and manipulate data in an array or ArrayList; 5. Combine multiple classes to solve larger problems; 6. Use iterables and collections (including maps) in Java.\"\n        ],\n        \"semantic_type\": \"\",\n        \"description\": \"\"\n      }\n    },\n    {\n      \"column\": \"Skills\",\n      \"properties\": {\n        \"dtype\": \"string\",\n        \"num_unique_values\": 3424,\n        \"samples\": [\n          \"economy  pandemic  global city  financial centre  crisis  global  curiosity  slum  emerging markets  Creativity social-sciences governance-and-society\",\n          \"i-deas  User Experience  Human Computer Interaction  thought  Map  experience  interview  interaction design  persona (user experience)  User Research computer-science design-and-product\",\n          \"Leadership and Management  organizational conflict  leadership  Human Resources  conflict resolution  performance appraisal  Conflict Management  interview  Performance Management  performance business leadership-and-management\"\n        ],\n        \"semantic_type\": \"\",\n        \"description\": \"\"\n      }\n    }\n  ]\n}"
            }
          },
          "metadata": {},
          "execution_count": 2
        }
      ],
      "source": [
        "data = pd.read_csv(\"/content/Coursera.csv\")\n",
        "data.head(5)"
      ]
    },
    {
      "cell_type": "markdown",
      "id": "8108389a",
      "metadata": {
        "papermill": {
          "duration": 0.050258,
          "end_time": "2022-01-26T14:19:44.802615",
          "exception": false,
          "start_time": "2022-01-26T14:19:44.752357",
          "status": "completed"
        },
        "tags": [],
        "id": "8108389a"
      },
      "source": [
        "# Basic Data Analysis"
      ]
    },
    {
      "cell_type": "code",
      "execution_count": null,
      "id": "100f65ea",
      "metadata": {
        "execution": {
          "iopub.execute_input": "2022-01-26T14:19:44.907504Z",
          "iopub.status.busy": "2022-01-26T14:19:44.906513Z",
          "iopub.status.idle": "2022-01-26T14:19:44.912134Z",
          "shell.execute_reply": "2022-01-26T14:19:44.912600Z",
          "shell.execute_reply.started": "2022-01-26T12:46:50.159391Z"
        },
        "papermill": {
          "duration": 0.059633,
          "end_time": "2022-01-26T14:19:44.912776",
          "exception": false,
          "start_time": "2022-01-26T14:19:44.853143",
          "status": "completed"
        },
        "tags": [],
        "colab": {
          "base_uri": "https://localhost:8080/"
        },
        "id": "100f65ea",
        "outputId": "2d54caed-4fc3-4779-b2ad-0ddc327c4bd1"
      },
      "outputs": [
        {
          "output_type": "execute_result",
          "data": {
            "text/plain": [
              "(3522, 7)"
            ]
          },
          "metadata": {},
          "execution_count": 3
        }
      ],
      "source": [
        "data.shape #3522 courses and 7 columns with different attributes"
      ]
    },
    {
      "cell_type": "code",
      "execution_count": null,
      "id": "0993059a",
      "metadata": {
        "execution": {
          "iopub.execute_input": "2022-01-26T14:19:45.041493Z",
          "iopub.status.busy": "2022-01-26T14:19:45.040248Z",
          "iopub.status.idle": "2022-01-26T14:19:45.060303Z",
          "shell.execute_reply": "2022-01-26T14:19:45.061266Z",
          "shell.execute_reply.started": "2022-01-26T12:46:50.515284Z"
        },
        "papermill": {
          "duration": 0.097295,
          "end_time": "2022-01-26T14:19:45.061496",
          "exception": false,
          "start_time": "2022-01-26T14:19:44.964201",
          "status": "completed"
        },
        "tags": [],
        "colab": {
          "base_uri": "https://localhost:8080/"
        },
        "id": "0993059a",
        "outputId": "efb2c66b-8047-4e07-b41e-cf373b051c4e"
      },
      "outputs": [
        {
          "output_type": "stream",
          "name": "stdout",
          "text": [
            "<class 'pandas.core.frame.DataFrame'>\n",
            "RangeIndex: 3522 entries, 0 to 3521\n",
            "Data columns (total 7 columns):\n",
            " #   Column              Non-Null Count  Dtype \n",
            "---  ------              --------------  ----- \n",
            " 0   Course Name         3522 non-null   object\n",
            " 1   University          3522 non-null   object\n",
            " 2   Difficulty Level    3522 non-null   object\n",
            " 3   Course Rating       3522 non-null   object\n",
            " 4   Course URL          3522 non-null   object\n",
            " 5   Course Description  3522 non-null   object\n",
            " 6   Skills              3522 non-null   object\n",
            "dtypes: object(7)\n",
            "memory usage: 192.7+ KB\n"
          ]
        }
      ],
      "source": [
        "data.info()"
      ]
    },
    {
      "cell_type": "code",
      "execution_count": null,
      "id": "65c2dc88",
      "metadata": {
        "execution": {
          "iopub.execute_input": "2022-01-26T14:19:45.179184Z",
          "iopub.status.busy": "2022-01-26T14:19:45.178159Z",
          "iopub.status.idle": "2022-01-26T14:19:45.189975Z",
          "shell.execute_reply": "2022-01-26T14:19:45.190569Z",
          "shell.execute_reply.started": "2022-01-26T12:46:50.913696Z"
        },
        "papermill": {
          "duration": 0.068015,
          "end_time": "2022-01-26T14:19:45.190768",
          "exception": false,
          "start_time": "2022-01-26T14:19:45.122753",
          "status": "completed"
        },
        "tags": [],
        "colab": {
          "base_uri": "https://localhost:8080/"
        },
        "id": "65c2dc88",
        "outputId": "10e2f4f3-44b2-4577-dc3a-b6952bf03290"
      },
      "outputs": [
        {
          "output_type": "execute_result",
          "data": {
            "text/plain": [
              "Course Name           0\n",
              "University            0\n",
              "Difficulty Level      0\n",
              "Course Rating         0\n",
              "Course URL            0\n",
              "Course Description    0\n",
              "Skills                0\n",
              "dtype: int64"
            ]
          },
          "metadata": {},
          "execution_count": 5
        }
      ],
      "source": [
        "data.isnull().sum() #no value is missing"
      ]
    },
    {
      "cell_type": "code",
      "execution_count": null,
      "id": "1fa17aa6",
      "metadata": {
        "execution": {
          "iopub.execute_input": "2022-01-26T14:19:45.299135Z",
          "iopub.status.busy": "2022-01-26T14:19:45.298106Z",
          "iopub.status.idle": "2022-01-26T14:19:45.306170Z",
          "shell.execute_reply": "2022-01-26T14:19:45.306688Z",
          "shell.execute_reply.started": "2022-01-26T12:46:53.446023Z"
        },
        "papermill": {
          "duration": 0.064492,
          "end_time": "2022-01-26T14:19:45.306882",
          "exception": false,
          "start_time": "2022-01-26T14:19:45.242390",
          "status": "completed"
        },
        "tags": [],
        "colab": {
          "base_uri": "https://localhost:8080/"
        },
        "id": "1fa17aa6",
        "outputId": "3f51f477-2e71-422b-ced2-1fa745d671d8"
      },
      "outputs": [
        {
          "output_type": "execute_result",
          "data": {
            "text/plain": [
              "Difficulty Level\n",
              "Beginner          1444\n",
              "Advanced          1005\n",
              "Intermediate       837\n",
              "Conversant         186\n",
              "Not Calibrated      50\n",
              "Name: count, dtype: int64"
            ]
          },
          "metadata": {},
          "execution_count": 6
        }
      ],
      "source": [
        "data['Difficulty Level'].value_counts()"
      ]
    },
    {
      "cell_type": "code",
      "execution_count": null,
      "id": "899491c8",
      "metadata": {
        "execution": {
          "iopub.execute_input": "2022-01-26T14:19:45.415285Z",
          "iopub.status.busy": "2022-01-26T14:19:45.414312Z",
          "iopub.status.idle": "2022-01-26T14:19:45.422096Z",
          "shell.execute_reply": "2022-01-26T14:19:45.422711Z",
          "shell.execute_reply.started": "2022-01-26T12:46:53.943586Z"
        },
        "papermill": {
          "duration": 0.064131,
          "end_time": "2022-01-26T14:19:45.422886",
          "exception": false,
          "start_time": "2022-01-26T14:19:45.358755",
          "status": "completed"
        },
        "tags": [],
        "colab": {
          "base_uri": "https://localhost:8080/"
        },
        "id": "899491c8",
        "outputId": "a1aa9312-cabe-43db-9061-bb4f42792bda"
      },
      "outputs": [
        {
          "output_type": "execute_result",
          "data": {
            "text/plain": [
              "Course Rating\n",
              "4.7               740\n",
              "4.6               623\n",
              "4.8               598\n",
              "4.5               389\n",
              "4.4               242\n",
              "4.9               180\n",
              "4.3               165\n",
              "4.2               121\n",
              "5                  90\n",
              "4.1                85\n",
              "Not Calibrated     82\n",
              "4                  51\n",
              "3.8                24\n",
              "3.9                20\n",
              "3.6                18\n",
              "3.7                18\n",
              "3.5                17\n",
              "3.4                13\n",
              "3                  12\n",
              "3.2                 9\n",
              "3.3                 6\n",
              "2.9                 6\n",
              "2.6                 2\n",
              "2.8                 2\n",
              "2.4                 2\n",
              "1                   2\n",
              "2                   1\n",
              "3.1                 1\n",
              "2.5                 1\n",
              "1.9                 1\n",
              "2.3                 1\n",
              "Name: count, dtype: int64"
            ]
          },
          "metadata": {},
          "execution_count": 7
        }
      ],
      "source": [
        "data['Course Rating'].value_counts()"
      ]
    },
    {
      "cell_type": "code",
      "execution_count": null,
      "id": "dab334a6",
      "metadata": {
        "execution": {
          "iopub.execute_input": "2022-01-26T14:19:45.531483Z",
          "iopub.status.busy": "2022-01-26T14:19:45.530498Z",
          "iopub.status.idle": "2022-01-26T14:19:45.539391Z",
          "shell.execute_reply": "2022-01-26T14:19:45.539891Z",
          "shell.execute_reply.started": "2022-01-26T12:46:54.61919Z"
        },
        "papermill": {
          "duration": 0.064827,
          "end_time": "2022-01-26T14:19:45.540088",
          "exception": false,
          "start_time": "2022-01-26T14:19:45.475261",
          "status": "completed"
        },
        "tags": [],
        "colab": {
          "base_uri": "https://localhost:8080/"
        },
        "id": "dab334a6",
        "outputId": "eb072826-ebd4-4d41-b704-c3c6c6d8845b"
      },
      "outputs": [
        {
          "output_type": "execute_result",
          "data": {
            "text/plain": [
              "University\n",
              "Coursera Project Network                      562\n",
              "University of Illinois at Urbana-Champaign    138\n",
              "Johns Hopkins University                      110\n",
              "University of Michigan                        101\n",
              "University of Colorado Boulder                101\n",
              "                                             ... \n",
              "GitLab                                          1\n",
              "Yeshiva University                              1\n",
              "University of Glasgow                           1\n",
              "Laureate Education                              1\n",
              "The World Bank Group                            1\n",
              "Name: count, Length: 184, dtype: int64"
            ]
          },
          "metadata": {},
          "execution_count": 8
        }
      ],
      "source": [
        "data['University'].value_counts()"
      ]
    },
    {
      "cell_type": "code",
      "execution_count": null,
      "id": "cf4e4a14",
      "metadata": {
        "execution": {
          "iopub.execute_input": "2022-01-26T14:19:45.653057Z",
          "iopub.status.busy": "2022-01-26T14:19:45.651968Z",
          "iopub.status.idle": "2022-01-26T14:19:45.657690Z",
          "shell.execute_reply": "2022-01-26T14:19:45.658305Z",
          "shell.execute_reply.started": "2022-01-26T12:46:56.396485Z"
        },
        "papermill": {
          "duration": 0.064954,
          "end_time": "2022-01-26T14:19:45.658504",
          "exception": false,
          "start_time": "2022-01-26T14:19:45.593550",
          "status": "completed"
        },
        "tags": [],
        "colab": {
          "base_uri": "https://localhost:8080/"
        },
        "id": "cf4e4a14",
        "outputId": "243e8a7f-5afb-4652-ea78-787dcbd7621e"
      },
      "outputs": [
        {
          "output_type": "execute_result",
          "data": {
            "text/plain": [
              "0       Write A Feature Length Screenplay For Film Or ...\n",
              "1       Business Strategy: Business Model Canvas Analy...\n",
              "2                           Silicon Thin Film Solar Cells\n",
              "3                                    Finance for Managers\n",
              "4            Retrieve Data using Single-Table SQL Queries\n",
              "                              ...                        \n",
              "3517    Capstone: Retrieving, Processing, and Visualiz...\n",
              "3518                     Patrick Henry: Forgotten Founder\n",
              "3519    Business intelligence and data analytics: Gene...\n",
              "3520                                  Rigid Body Dynamics\n",
              "3521    Architecting with Google Kubernetes Engine: Pr...\n",
              "Name: Course Name, Length: 3522, dtype: object"
            ]
          },
          "metadata": {},
          "execution_count": 9
        }
      ],
      "source": [
        "data['Course Name']"
      ]
    },
    {
      "cell_type": "markdown",
      "id": "689fdeab",
      "metadata": {
        "papermill": {
          "duration": 0.053402,
          "end_time": "2022-01-26T14:19:45.765943",
          "exception": false,
          "start_time": "2022-01-26T14:19:45.712541",
          "status": "completed"
        },
        "tags": [],
        "id": "689fdeab"
      },
      "source": [
        "# Required Columns for System"
      ]
    },
    {
      "cell_type": "markdown",
      "id": "dc7a7331",
      "metadata": {
        "papermill": {
          "duration": 0.053564,
          "end_time": "2022-01-26T14:19:45.872798",
          "exception": false,
          "start_time": "2022-01-26T14:19:45.819234",
          "status": "completed"
        },
        "tags": [],
        "id": "dc7a7331"
      },
      "source": [
        "#### Important columns to be used in recommendation system :\n",
        "\n",
        "- Course Name : Names of the courses\n",
        "- Course Description : Similar courses may have similar course description\n",
        "- Skills : Users may want to see courses based on same skills\n",
        "- Difficulty Level : Similar courses as per difficulty level\n",
        "\n",
        "#### Columns not used for the recommendation system :\n",
        "\n",
        "- Course Ratings : Numerical Column; Ratings can sometimes become a biased factor and distribution is not even\n",
        "- University : Same university might offer multiple courses in different domains which the user might not want to see\n",
        "- Course URL : No significance in the recommendation system"
      ]
    },
    {
      "cell_type": "code",
      "execution_count": null,
      "id": "42f0e96a",
      "metadata": {
        "execution": {
          "iopub.execute_input": "2022-01-26T14:19:45.985862Z",
          "iopub.status.busy": "2022-01-26T14:19:45.984756Z",
          "iopub.status.idle": "2022-01-26T14:19:45.990667Z",
          "shell.execute_reply": "2022-01-26T14:19:45.991205Z",
          "shell.execute_reply.started": "2022-01-26T12:49:25.396394Z"
        },
        "papermill": {
          "duration": 0.064324,
          "end_time": "2022-01-26T14:19:45.991385",
          "exception": false,
          "start_time": "2022-01-26T14:19:45.927061",
          "status": "completed"
        },
        "tags": [],
        "id": "42f0e96a"
      },
      "outputs": [],
      "source": [
        "data = data[['Course Name','Difficulty Level','Course Description','Skills']]"
      ]
    },
    {
      "cell_type": "code",
      "execution_count": null,
      "id": "04cc92ed",
      "metadata": {
        "execution": {
          "iopub.execute_input": "2022-01-26T14:19:46.104150Z",
          "iopub.status.busy": "2022-01-26T14:19:46.103123Z",
          "iopub.status.idle": "2022-01-26T14:19:46.113861Z",
          "shell.execute_reply": "2022-01-26T14:19:46.114401Z",
          "shell.execute_reply.started": "2022-01-26T12:49:30.127057Z"
        },
        "papermill": {
          "duration": 0.067641,
          "end_time": "2022-01-26T14:19:46.114589",
          "exception": false,
          "start_time": "2022-01-26T14:19:46.046948",
          "status": "completed"
        },
        "tags": [],
        "colab": {
          "base_uri": "https://localhost:8080/",
          "height": 206
        },
        "id": "04cc92ed",
        "outputId": "08a45d0b-31a5-402c-9a0d-978470d144df"
      },
      "outputs": [
        {
          "output_type": "execute_result",
          "data": {
            "text/plain": [
              "                                         Course Name Difficulty Level  \\\n",
              "0  Write A Feature Length Screenplay For Film Or ...         Beginner   \n",
              "1  Business Strategy: Business Model Canvas Analy...         Beginner   \n",
              "2                      Silicon Thin Film Solar Cells         Advanced   \n",
              "3                               Finance for Managers     Intermediate   \n",
              "4       Retrieve Data using Single-Table SQL Queries         Beginner   \n",
              "\n",
              "                                  Course Description  \\\n",
              "0  Write a Full Length Feature Film Script  In th...   \n",
              "1  By the end of this guided project, you will be...   \n",
              "2  This course consists of a general presentation...   \n",
              "3  When it comes to numbers, there is always more...   \n",
              "4  In this course you�ll learn how to effectively...   \n",
              "\n",
              "                                              Skills  \n",
              "0  Drama  Comedy  peering  screenwriting  film  D...  \n",
              "1  Finance  business plan  persona (user experien...  \n",
              "2  chemistry  physics  Solar Energy  film  lambda...  \n",
              "3  accounts receivable  dupont analysis  analysis...  \n",
              "4  Data Analysis  select (sql)  database manageme...  "
            ],
            "text/html": [
              "\n",
              "  <div id=\"df-769affef-fc30-4bd4-b947-48547c82965c\" class=\"colab-df-container\">\n",
              "    <div>\n",
              "<style scoped>\n",
              "    .dataframe tbody tr th:only-of-type {\n",
              "        vertical-align: middle;\n",
              "    }\n",
              "\n",
              "    .dataframe tbody tr th {\n",
              "        vertical-align: top;\n",
              "    }\n",
              "\n",
              "    .dataframe thead th {\n",
              "        text-align: right;\n",
              "    }\n",
              "</style>\n",
              "<table border=\"1\" class=\"dataframe\">\n",
              "  <thead>\n",
              "    <tr style=\"text-align: right;\">\n",
              "      <th></th>\n",
              "      <th>Course Name</th>\n",
              "      <th>Difficulty Level</th>\n",
              "      <th>Course Description</th>\n",
              "      <th>Skills</th>\n",
              "    </tr>\n",
              "  </thead>\n",
              "  <tbody>\n",
              "    <tr>\n",
              "      <th>0</th>\n",
              "      <td>Write A Feature Length Screenplay For Film Or ...</td>\n",
              "      <td>Beginner</td>\n",
              "      <td>Write a Full Length Feature Film Script  In th...</td>\n",
              "      <td>Drama  Comedy  peering  screenwriting  film  D...</td>\n",
              "    </tr>\n",
              "    <tr>\n",
              "      <th>1</th>\n",
              "      <td>Business Strategy: Business Model Canvas Analy...</td>\n",
              "      <td>Beginner</td>\n",
              "      <td>By the end of this guided project, you will be...</td>\n",
              "      <td>Finance  business plan  persona (user experien...</td>\n",
              "    </tr>\n",
              "    <tr>\n",
              "      <th>2</th>\n",
              "      <td>Silicon Thin Film Solar Cells</td>\n",
              "      <td>Advanced</td>\n",
              "      <td>This course consists of a general presentation...</td>\n",
              "      <td>chemistry  physics  Solar Energy  film  lambda...</td>\n",
              "    </tr>\n",
              "    <tr>\n",
              "      <th>3</th>\n",
              "      <td>Finance for Managers</td>\n",
              "      <td>Intermediate</td>\n",
              "      <td>When it comes to numbers, there is always more...</td>\n",
              "      <td>accounts receivable  dupont analysis  analysis...</td>\n",
              "    </tr>\n",
              "    <tr>\n",
              "      <th>4</th>\n",
              "      <td>Retrieve Data using Single-Table SQL Queries</td>\n",
              "      <td>Beginner</td>\n",
              "      <td>In this course you�ll learn how to effectively...</td>\n",
              "      <td>Data Analysis  select (sql)  database manageme...</td>\n",
              "    </tr>\n",
              "  </tbody>\n",
              "</table>\n",
              "</div>\n",
              "    <div class=\"colab-df-buttons\">\n",
              "\n",
              "  <div class=\"colab-df-container\">\n",
              "    <button class=\"colab-df-convert\" onclick=\"convertToInteractive('df-769affef-fc30-4bd4-b947-48547c82965c')\"\n",
              "            title=\"Convert this dataframe to an interactive table.\"\n",
              "            style=\"display:none;\">\n",
              "\n",
              "  <svg xmlns=\"http://www.w3.org/2000/svg\" height=\"24px\" viewBox=\"0 -960 960 960\">\n",
              "    <path d=\"M120-120v-720h720v720H120Zm60-500h600v-160H180v160Zm220 220h160v-160H400v160Zm0 220h160v-160H400v160ZM180-400h160v-160H180v160Zm440 0h160v-160H620v160ZM180-180h160v-160H180v160Zm440 0h160v-160H620v160Z\"/>\n",
              "  </svg>\n",
              "    </button>\n",
              "\n",
              "  <style>\n",
              "    .colab-df-container {\n",
              "      display:flex;\n",
              "      gap: 12px;\n",
              "    }\n",
              "\n",
              "    .colab-df-convert {\n",
              "      background-color: #E8F0FE;\n",
              "      border: none;\n",
              "      border-radius: 50%;\n",
              "      cursor: pointer;\n",
              "      display: none;\n",
              "      fill: #1967D2;\n",
              "      height: 32px;\n",
              "      padding: 0 0 0 0;\n",
              "      width: 32px;\n",
              "    }\n",
              "\n",
              "    .colab-df-convert:hover {\n",
              "      background-color: #E2EBFA;\n",
              "      box-shadow: 0px 1px 2px rgba(60, 64, 67, 0.3), 0px 1px 3px 1px rgba(60, 64, 67, 0.15);\n",
              "      fill: #174EA6;\n",
              "    }\n",
              "\n",
              "    .colab-df-buttons div {\n",
              "      margin-bottom: 4px;\n",
              "    }\n",
              "\n",
              "    [theme=dark] .colab-df-convert {\n",
              "      background-color: #3B4455;\n",
              "      fill: #D2E3FC;\n",
              "    }\n",
              "\n",
              "    [theme=dark] .colab-df-convert:hover {\n",
              "      background-color: #434B5C;\n",
              "      box-shadow: 0px 1px 3px 1px rgba(0, 0, 0, 0.15);\n",
              "      filter: drop-shadow(0px 1px 2px rgba(0, 0, 0, 0.3));\n",
              "      fill: #FFFFFF;\n",
              "    }\n",
              "  </style>\n",
              "\n",
              "    <script>\n",
              "      const buttonEl =\n",
              "        document.querySelector('#df-769affef-fc30-4bd4-b947-48547c82965c button.colab-df-convert');\n",
              "      buttonEl.style.display =\n",
              "        google.colab.kernel.accessAllowed ? 'block' : 'none';\n",
              "\n",
              "      async function convertToInteractive(key) {\n",
              "        const element = document.querySelector('#df-769affef-fc30-4bd4-b947-48547c82965c');\n",
              "        const dataTable =\n",
              "          await google.colab.kernel.invokeFunction('convertToInteractive',\n",
              "                                                    [key], {});\n",
              "        if (!dataTable) return;\n",
              "\n",
              "        const docLinkHtml = 'Like what you see? Visit the ' +\n",
              "          '<a target=\"_blank\" href=https://colab.research.google.com/notebooks/data_table.ipynb>data table notebook</a>'\n",
              "          + ' to learn more about interactive tables.';\n",
              "        element.innerHTML = '';\n",
              "        dataTable['output_type'] = 'display_data';\n",
              "        await google.colab.output.renderOutput(dataTable, element);\n",
              "        const docLink = document.createElement('div');\n",
              "        docLink.innerHTML = docLinkHtml;\n",
              "        element.appendChild(docLink);\n",
              "      }\n",
              "    </script>\n",
              "  </div>\n",
              "\n",
              "\n",
              "<div id=\"df-9a02fc7d-051a-43a5-98b6-8c46b84ce524\">\n",
              "  <button class=\"colab-df-quickchart\" onclick=\"quickchart('df-9a02fc7d-051a-43a5-98b6-8c46b84ce524')\"\n",
              "            title=\"Suggest charts\"\n",
              "            style=\"display:none;\">\n",
              "\n",
              "<svg xmlns=\"http://www.w3.org/2000/svg\" height=\"24px\"viewBox=\"0 0 24 24\"\n",
              "     width=\"24px\">\n",
              "    <g>\n",
              "        <path d=\"M19 3H5c-1.1 0-2 .9-2 2v14c0 1.1.9 2 2 2h14c1.1 0 2-.9 2-2V5c0-1.1-.9-2-2-2zM9 17H7v-7h2v7zm4 0h-2V7h2v10zm4 0h-2v-4h2v4z\"/>\n",
              "    </g>\n",
              "</svg>\n",
              "  </button>\n",
              "\n",
              "<style>\n",
              "  .colab-df-quickchart {\n",
              "      --bg-color: #E8F0FE;\n",
              "      --fill-color: #1967D2;\n",
              "      --hover-bg-color: #E2EBFA;\n",
              "      --hover-fill-color: #174EA6;\n",
              "      --disabled-fill-color: #AAA;\n",
              "      --disabled-bg-color: #DDD;\n",
              "  }\n",
              "\n",
              "  [theme=dark] .colab-df-quickchart {\n",
              "      --bg-color: #3B4455;\n",
              "      --fill-color: #D2E3FC;\n",
              "      --hover-bg-color: #434B5C;\n",
              "      --hover-fill-color: #FFFFFF;\n",
              "      --disabled-bg-color: #3B4455;\n",
              "      --disabled-fill-color: #666;\n",
              "  }\n",
              "\n",
              "  .colab-df-quickchart {\n",
              "    background-color: var(--bg-color);\n",
              "    border: none;\n",
              "    border-radius: 50%;\n",
              "    cursor: pointer;\n",
              "    display: none;\n",
              "    fill: var(--fill-color);\n",
              "    height: 32px;\n",
              "    padding: 0;\n",
              "    width: 32px;\n",
              "  }\n",
              "\n",
              "  .colab-df-quickchart:hover {\n",
              "    background-color: var(--hover-bg-color);\n",
              "    box-shadow: 0 1px 2px rgba(60, 64, 67, 0.3), 0 1px 3px 1px rgba(60, 64, 67, 0.15);\n",
              "    fill: var(--button-hover-fill-color);\n",
              "  }\n",
              "\n",
              "  .colab-df-quickchart-complete:disabled,\n",
              "  .colab-df-quickchart-complete:disabled:hover {\n",
              "    background-color: var(--disabled-bg-color);\n",
              "    fill: var(--disabled-fill-color);\n",
              "    box-shadow: none;\n",
              "  }\n",
              "\n",
              "  .colab-df-spinner {\n",
              "    border: 2px solid var(--fill-color);\n",
              "    border-color: transparent;\n",
              "    border-bottom-color: var(--fill-color);\n",
              "    animation:\n",
              "      spin 1s steps(1) infinite;\n",
              "  }\n",
              "\n",
              "  @keyframes spin {\n",
              "    0% {\n",
              "      border-color: transparent;\n",
              "      border-bottom-color: var(--fill-color);\n",
              "      border-left-color: var(--fill-color);\n",
              "    }\n",
              "    20% {\n",
              "      border-color: transparent;\n",
              "      border-left-color: var(--fill-color);\n",
              "      border-top-color: var(--fill-color);\n",
              "    }\n",
              "    30% {\n",
              "      border-color: transparent;\n",
              "      border-left-color: var(--fill-color);\n",
              "      border-top-color: var(--fill-color);\n",
              "      border-right-color: var(--fill-color);\n",
              "    }\n",
              "    40% {\n",
              "      border-color: transparent;\n",
              "      border-right-color: var(--fill-color);\n",
              "      border-top-color: var(--fill-color);\n",
              "    }\n",
              "    60% {\n",
              "      border-color: transparent;\n",
              "      border-right-color: var(--fill-color);\n",
              "    }\n",
              "    80% {\n",
              "      border-color: transparent;\n",
              "      border-right-color: var(--fill-color);\n",
              "      border-bottom-color: var(--fill-color);\n",
              "    }\n",
              "    90% {\n",
              "      border-color: transparent;\n",
              "      border-bottom-color: var(--fill-color);\n",
              "    }\n",
              "  }\n",
              "</style>\n",
              "\n",
              "  <script>\n",
              "    async function quickchart(key) {\n",
              "      const quickchartButtonEl =\n",
              "        document.querySelector('#' + key + ' button');\n",
              "      quickchartButtonEl.disabled = true;  // To prevent multiple clicks.\n",
              "      quickchartButtonEl.classList.add('colab-df-spinner');\n",
              "      try {\n",
              "        const charts = await google.colab.kernel.invokeFunction(\n",
              "            'suggestCharts', [key], {});\n",
              "      } catch (error) {\n",
              "        console.error('Error during call to suggestCharts:', error);\n",
              "      }\n",
              "      quickchartButtonEl.classList.remove('colab-df-spinner');\n",
              "      quickchartButtonEl.classList.add('colab-df-quickchart-complete');\n",
              "    }\n",
              "    (() => {\n",
              "      let quickchartButtonEl =\n",
              "        document.querySelector('#df-9a02fc7d-051a-43a5-98b6-8c46b84ce524 button');\n",
              "      quickchartButtonEl.style.display =\n",
              "        google.colab.kernel.accessAllowed ? 'block' : 'none';\n",
              "    })();\n",
              "  </script>\n",
              "</div>\n",
              "\n",
              "    </div>\n",
              "  </div>\n"
            ],
            "application/vnd.google.colaboratory.intrinsic+json": {
              "type": "dataframe",
              "variable_name": "data",
              "summary": "{\n  \"name\": \"data\",\n  \"rows\": 3522,\n  \"fields\": [\n    {\n      \"column\": \"Course Name\",\n      \"properties\": {\n        \"dtype\": \"string\",\n        \"num_unique_values\": 3416,\n        \"samples\": [\n          \"Create a Record of Students using Arrays in Java\",\n          \"Fundamentals of financial and management accounting\",\n          \"When Disaster Meets Conflict\"\n        ],\n        \"semantic_type\": \"\",\n        \"description\": \"\"\n      }\n    },\n    {\n      \"column\": \"Difficulty Level\",\n      \"properties\": {\n        \"dtype\": \"category\",\n        \"num_unique_values\": 5,\n        \"samples\": [\n          \"Advanced\",\n          \"Conversant\",\n          \"Intermediate\"\n        ],\n        \"semantic_type\": \"\",\n        \"description\": \"\"\n      }\n    },\n    {\n      \"column\": \"Course Description\",\n      \"properties\": {\n        \"dtype\": \"string\",\n        \"num_unique_values\": 3397,\n        \"samples\": [\n          \"This course can also be taken for academic credit as ECEA 5317, part of CU Boulder\\ufffds Master of Science in Electrical Engineering degree.  Upon completion of this course the learner will know the difference between systems you can bet your life on (mission critical) and those which provide predictable response and quality of service (reliable).  This will be achieved not only by study of design methods and patterns for mission critical systems, but also through implementation of soft real-time systems and comparison to hard real-time.  Methods of verification to determine ability to meet mission critical as well as soft real-time requirements will be learned so that the learner can properly assess risk, reliability and impact of failure in real-time systems.  At the end of this course learners will be able to apply an architectural style (cyclic executive, RTOS, or embedded Linux) to more detailed design of a mission critical system, a soft real-time system, or a mixed hard and soft real-time system, including:  ?\\\\tThorough understanding of hardware/software device interfaces and resource view for hardware abstraction layers (HAL, BSP) ?\\\\tDesign trade-offs with different real-time hardware architectures including single core, multi-core, hybrid-FPGA, GP-GPU, and DSP systems, with emphasis on multi-core ?\\\\tMission critical embedded systems architecture and key design elements ?\\\\tFault tolerant processing, memory, and I/O concepts\",\n          \"Financial Accounting is often called the language of business; it is the language that managers use to communicate the firm's financial and economic information to external parties such as shareholders and creditors. Nobody working in business can afford financial illiteracy. Whether you run your own business, work as a manager or are just starting your career, you want to understand financial information and be able to interact with accountants, controllers, and financial managers. You want to talk business!   This course will provide you with the accounting language's essentials. Upon completion, you should be able to read and interpret financial statements for business diagnosis and decision-making. More importantly, you will possess the conceptual base to keep learning more sophisticated accounting and finance on your own. Do not forget that, as with any other language, becoming proficient with accounting requires constant practice.\",\n          \"Build on the software engineering skills you learned in \\ufffdJava Programming: Solving Problems with Software\\ufffd by learning new data structures. Use these data structures to build more complex programs that use Java\\ufffds object-oriented features. At the end of the course you will write an encryption program and a program to break your encryption algorithm.  After completing this course, you will be able to: 1. Read and write data from/to files; 2. Solve problems involving data files; 3. Perform quantitative analyses of data (e.g., finding maximums, minimums, averages);  4. Store and manipulate data in an array or ArrayList; 5. Combine multiple classes to solve larger problems; 6. Use iterables and collections (including maps) in Java.\"\n        ],\n        \"semantic_type\": \"\",\n        \"description\": \"\"\n      }\n    },\n    {\n      \"column\": \"Skills\",\n      \"properties\": {\n        \"dtype\": \"string\",\n        \"num_unique_values\": 3424,\n        \"samples\": [\n          \"economy  pandemic  global city  financial centre  crisis  global  curiosity  slum  emerging markets  Creativity social-sciences governance-and-society\",\n          \"i-deas  User Experience  Human Computer Interaction  thought  Map  experience  interview  interaction design  persona (user experience)  User Research computer-science design-and-product\",\n          \"Leadership and Management  organizational conflict  leadership  Human Resources  conflict resolution  performance appraisal  Conflict Management  interview  Performance Management  performance business leadership-and-management\"\n        ],\n        \"semantic_type\": \"\",\n        \"description\": \"\"\n      }\n    }\n  ]\n}"
            }
          },
          "metadata": {},
          "execution_count": 11
        }
      ],
      "source": [
        "data.head(5)"
      ]
    },
    {
      "cell_type": "markdown",
      "id": "631aeb3b",
      "metadata": {
        "papermill": {
          "duration": 0.052809,
          "end_time": "2022-01-26T14:19:46.221289",
          "exception": false,
          "start_time": "2022-01-26T14:19:46.168480",
          "status": "completed"
        },
        "tags": [],
        "id": "631aeb3b"
      },
      "source": [
        "# Data Pre-Processing\n",
        "\n",
        "An important part of the process is to pre-process the data into usable format for the recommendation system"
      ]
    },
    {
      "cell_type": "code",
      "execution_count": null,
      "id": "e0df7188",
      "metadata": {
        "execution": {
          "iopub.execute_input": "2022-01-26T14:19:46.339162Z",
          "iopub.status.busy": "2022-01-26T14:19:46.338482Z",
          "iopub.status.idle": "2022-01-26T14:19:46.453299Z",
          "shell.execute_reply": "2022-01-26T14:19:46.453797Z",
          "shell.execute_reply.started": "2022-01-26T12:53:40.943775Z"
        },
        "papermill": {
          "duration": 0.177814,
          "end_time": "2022-01-26T14:19:46.453980",
          "exception": false,
          "start_time": "2022-01-26T14:19:46.276166",
          "status": "completed"
        },
        "tags": [],
        "id": "e0df7188"
      },
      "outputs": [],
      "source": [
        "# Removing spaces between the words (Lambda funtions can be used as well)\n",
        "\n",
        "data['Course Name'] = data['Course Name'].str.replace(' ',',')\n",
        "data['Course Name'] = data['Course Name'].str.replace(',,',',')\n",
        "data['Course Name'] = data['Course Name'].str.replace(':','')\n",
        "data['Course Description'] = data['Course Description'].str.replace(' ',',')\n",
        "data['Course Description'] = data['Course Description'].str.replace(',,',',')\n",
        "data['Course Description'] = data['Course Description'].str.replace('_','')\n",
        "data['Course Description'] = data['Course Description'].str.replace(':','')\n",
        "data['Course Description'] = data['Course Description'].str.replace('(','')\n",
        "data['Course Description'] = data['Course Description'].str.replace(')','')\n",
        "\n",
        "#removing paranthesis from skills columns\n",
        "data['Skills'] = data['Skills'].str.replace('(','')\n",
        "data['Skills'] = data['Skills'].str.replace(')','')"
      ]
    },
    {
      "cell_type": "code",
      "execution_count": null,
      "id": "624470d3",
      "metadata": {
        "execution": {
          "iopub.execute_input": "2022-01-26T14:19:46.566735Z",
          "iopub.status.busy": "2022-01-26T14:19:46.565969Z",
          "iopub.status.idle": "2022-01-26T14:19:46.576143Z",
          "shell.execute_reply": "2022-01-26T14:19:46.576719Z",
          "shell.execute_reply.started": "2022-01-26T12:53:53.653156Z"
        },
        "papermill": {
          "duration": 0.068556,
          "end_time": "2022-01-26T14:19:46.576919",
          "exception": false,
          "start_time": "2022-01-26T14:19:46.508363",
          "status": "completed"
        },
        "tags": [],
        "colab": {
          "base_uri": "https://localhost:8080/",
          "height": 206
        },
        "id": "624470d3",
        "outputId": "beddcb00-3024-48af-cf74-9f56a5471d0c"
      },
      "outputs": [
        {
          "output_type": "execute_result",
          "data": {
            "text/plain": [
              "                                         Course Name Difficulty Level  \\\n",
              "0  Write,A,Feature,Length,Screenplay,For,Film,Or,...         Beginner   \n",
              "1  Business,Strategy,Business,Model,Canvas,Analys...         Beginner   \n",
              "2                      Silicon,Thin,Film,Solar,Cells         Advanced   \n",
              "3                               Finance,for,Managers     Intermediate   \n",
              "4       Retrieve,Data,using,Single-Table,SQL,Queries         Beginner   \n",
              "\n",
              "                                  Course Description  \\\n",
              "0  Write,a,Full,Length,Feature,Film,Script,In,thi...   \n",
              "1  By,the,end,of,this,guided,project,you,will,be,...   \n",
              "2  This,course,consists,of,a,general,presentation...   \n",
              "3  When,it,comes,to,numbers,there,is,always,more,...   \n",
              "4  In,this,course,you�ll,learn,how,to,effectively...   \n",
              "\n",
              "                                              Skills  \n",
              "0  Drama  Comedy  peering  screenwriting  film  D...  \n",
              "1  Finance  business plan  persona user experienc...  \n",
              "2  chemistry  physics  Solar Energy  film  lambda...  \n",
              "3  accounts receivable  dupont analysis  analysis...  \n",
              "4  Data Analysis  select sql  database management...  "
            ],
            "text/html": [
              "\n",
              "  <div id=\"df-ebab8a15-cff6-4eac-828a-73f2ef50dcc4\" class=\"colab-df-container\">\n",
              "    <div>\n",
              "<style scoped>\n",
              "    .dataframe tbody tr th:only-of-type {\n",
              "        vertical-align: middle;\n",
              "    }\n",
              "\n",
              "    .dataframe tbody tr th {\n",
              "        vertical-align: top;\n",
              "    }\n",
              "\n",
              "    .dataframe thead th {\n",
              "        text-align: right;\n",
              "    }\n",
              "</style>\n",
              "<table border=\"1\" class=\"dataframe\">\n",
              "  <thead>\n",
              "    <tr style=\"text-align: right;\">\n",
              "      <th></th>\n",
              "      <th>Course Name</th>\n",
              "      <th>Difficulty Level</th>\n",
              "      <th>Course Description</th>\n",
              "      <th>Skills</th>\n",
              "    </tr>\n",
              "  </thead>\n",
              "  <tbody>\n",
              "    <tr>\n",
              "      <th>0</th>\n",
              "      <td>Write,A,Feature,Length,Screenplay,For,Film,Or,...</td>\n",
              "      <td>Beginner</td>\n",
              "      <td>Write,a,Full,Length,Feature,Film,Script,In,thi...</td>\n",
              "      <td>Drama  Comedy  peering  screenwriting  film  D...</td>\n",
              "    </tr>\n",
              "    <tr>\n",
              "      <th>1</th>\n",
              "      <td>Business,Strategy,Business,Model,Canvas,Analys...</td>\n",
              "      <td>Beginner</td>\n",
              "      <td>By,the,end,of,this,guided,project,you,will,be,...</td>\n",
              "      <td>Finance  business plan  persona user experienc...</td>\n",
              "    </tr>\n",
              "    <tr>\n",
              "      <th>2</th>\n",
              "      <td>Silicon,Thin,Film,Solar,Cells</td>\n",
              "      <td>Advanced</td>\n",
              "      <td>This,course,consists,of,a,general,presentation...</td>\n",
              "      <td>chemistry  physics  Solar Energy  film  lambda...</td>\n",
              "    </tr>\n",
              "    <tr>\n",
              "      <th>3</th>\n",
              "      <td>Finance,for,Managers</td>\n",
              "      <td>Intermediate</td>\n",
              "      <td>When,it,comes,to,numbers,there,is,always,more,...</td>\n",
              "      <td>accounts receivable  dupont analysis  analysis...</td>\n",
              "    </tr>\n",
              "    <tr>\n",
              "      <th>4</th>\n",
              "      <td>Retrieve,Data,using,Single-Table,SQL,Queries</td>\n",
              "      <td>Beginner</td>\n",
              "      <td>In,this,course,you�ll,learn,how,to,effectively...</td>\n",
              "      <td>Data Analysis  select sql  database management...</td>\n",
              "    </tr>\n",
              "  </tbody>\n",
              "</table>\n",
              "</div>\n",
              "    <div class=\"colab-df-buttons\">\n",
              "\n",
              "  <div class=\"colab-df-container\">\n",
              "    <button class=\"colab-df-convert\" onclick=\"convertToInteractive('df-ebab8a15-cff6-4eac-828a-73f2ef50dcc4')\"\n",
              "            title=\"Convert this dataframe to an interactive table.\"\n",
              "            style=\"display:none;\">\n",
              "\n",
              "  <svg xmlns=\"http://www.w3.org/2000/svg\" height=\"24px\" viewBox=\"0 -960 960 960\">\n",
              "    <path d=\"M120-120v-720h720v720H120Zm60-500h600v-160H180v160Zm220 220h160v-160H400v160Zm0 220h160v-160H400v160ZM180-400h160v-160H180v160Zm440 0h160v-160H620v160ZM180-180h160v-160H180v160Zm440 0h160v-160H620v160Z\"/>\n",
              "  </svg>\n",
              "    </button>\n",
              "\n",
              "  <style>\n",
              "    .colab-df-container {\n",
              "      display:flex;\n",
              "      gap: 12px;\n",
              "    }\n",
              "\n",
              "    .colab-df-convert {\n",
              "      background-color: #E8F0FE;\n",
              "      border: none;\n",
              "      border-radius: 50%;\n",
              "      cursor: pointer;\n",
              "      display: none;\n",
              "      fill: #1967D2;\n",
              "      height: 32px;\n",
              "      padding: 0 0 0 0;\n",
              "      width: 32px;\n",
              "    }\n",
              "\n",
              "    .colab-df-convert:hover {\n",
              "      background-color: #E2EBFA;\n",
              "      box-shadow: 0px 1px 2px rgba(60, 64, 67, 0.3), 0px 1px 3px 1px rgba(60, 64, 67, 0.15);\n",
              "      fill: #174EA6;\n",
              "    }\n",
              "\n",
              "    .colab-df-buttons div {\n",
              "      margin-bottom: 4px;\n",
              "    }\n",
              "\n",
              "    [theme=dark] .colab-df-convert {\n",
              "      background-color: #3B4455;\n",
              "      fill: #D2E3FC;\n",
              "    }\n",
              "\n",
              "    [theme=dark] .colab-df-convert:hover {\n",
              "      background-color: #434B5C;\n",
              "      box-shadow: 0px 1px 3px 1px rgba(0, 0, 0, 0.15);\n",
              "      filter: drop-shadow(0px 1px 2px rgba(0, 0, 0, 0.3));\n",
              "      fill: #FFFFFF;\n",
              "    }\n",
              "  </style>\n",
              "\n",
              "    <script>\n",
              "      const buttonEl =\n",
              "        document.querySelector('#df-ebab8a15-cff6-4eac-828a-73f2ef50dcc4 button.colab-df-convert');\n",
              "      buttonEl.style.display =\n",
              "        google.colab.kernel.accessAllowed ? 'block' : 'none';\n",
              "\n",
              "      async function convertToInteractive(key) {\n",
              "        const element = document.querySelector('#df-ebab8a15-cff6-4eac-828a-73f2ef50dcc4');\n",
              "        const dataTable =\n",
              "          await google.colab.kernel.invokeFunction('convertToInteractive',\n",
              "                                                    [key], {});\n",
              "        if (!dataTable) return;\n",
              "\n",
              "        const docLinkHtml = 'Like what you see? Visit the ' +\n",
              "          '<a target=\"_blank\" href=https://colab.research.google.com/notebooks/data_table.ipynb>data table notebook</a>'\n",
              "          + ' to learn more about interactive tables.';\n",
              "        element.innerHTML = '';\n",
              "        dataTable['output_type'] = 'display_data';\n",
              "        await google.colab.output.renderOutput(dataTable, element);\n",
              "        const docLink = document.createElement('div');\n",
              "        docLink.innerHTML = docLinkHtml;\n",
              "        element.appendChild(docLink);\n",
              "      }\n",
              "    </script>\n",
              "  </div>\n",
              "\n",
              "\n",
              "<div id=\"df-7a47a36d-5635-4b10-afe0-a6a10b265755\">\n",
              "  <button class=\"colab-df-quickchart\" onclick=\"quickchart('df-7a47a36d-5635-4b10-afe0-a6a10b265755')\"\n",
              "            title=\"Suggest charts\"\n",
              "            style=\"display:none;\">\n",
              "\n",
              "<svg xmlns=\"http://www.w3.org/2000/svg\" height=\"24px\"viewBox=\"0 0 24 24\"\n",
              "     width=\"24px\">\n",
              "    <g>\n",
              "        <path d=\"M19 3H5c-1.1 0-2 .9-2 2v14c0 1.1.9 2 2 2h14c1.1 0 2-.9 2-2V5c0-1.1-.9-2-2-2zM9 17H7v-7h2v7zm4 0h-2V7h2v10zm4 0h-2v-4h2v4z\"/>\n",
              "    </g>\n",
              "</svg>\n",
              "  </button>\n",
              "\n",
              "<style>\n",
              "  .colab-df-quickchart {\n",
              "      --bg-color: #E8F0FE;\n",
              "      --fill-color: #1967D2;\n",
              "      --hover-bg-color: #E2EBFA;\n",
              "      --hover-fill-color: #174EA6;\n",
              "      --disabled-fill-color: #AAA;\n",
              "      --disabled-bg-color: #DDD;\n",
              "  }\n",
              "\n",
              "  [theme=dark] .colab-df-quickchart {\n",
              "      --bg-color: #3B4455;\n",
              "      --fill-color: #D2E3FC;\n",
              "      --hover-bg-color: #434B5C;\n",
              "      --hover-fill-color: #FFFFFF;\n",
              "      --disabled-bg-color: #3B4455;\n",
              "      --disabled-fill-color: #666;\n",
              "  }\n",
              "\n",
              "  .colab-df-quickchart {\n",
              "    background-color: var(--bg-color);\n",
              "    border: none;\n",
              "    border-radius: 50%;\n",
              "    cursor: pointer;\n",
              "    display: none;\n",
              "    fill: var(--fill-color);\n",
              "    height: 32px;\n",
              "    padding: 0;\n",
              "    width: 32px;\n",
              "  }\n",
              "\n",
              "  .colab-df-quickchart:hover {\n",
              "    background-color: var(--hover-bg-color);\n",
              "    box-shadow: 0 1px 2px rgba(60, 64, 67, 0.3), 0 1px 3px 1px rgba(60, 64, 67, 0.15);\n",
              "    fill: var(--button-hover-fill-color);\n",
              "  }\n",
              "\n",
              "  .colab-df-quickchart-complete:disabled,\n",
              "  .colab-df-quickchart-complete:disabled:hover {\n",
              "    background-color: var(--disabled-bg-color);\n",
              "    fill: var(--disabled-fill-color);\n",
              "    box-shadow: none;\n",
              "  }\n",
              "\n",
              "  .colab-df-spinner {\n",
              "    border: 2px solid var(--fill-color);\n",
              "    border-color: transparent;\n",
              "    border-bottom-color: var(--fill-color);\n",
              "    animation:\n",
              "      spin 1s steps(1) infinite;\n",
              "  }\n",
              "\n",
              "  @keyframes spin {\n",
              "    0% {\n",
              "      border-color: transparent;\n",
              "      border-bottom-color: var(--fill-color);\n",
              "      border-left-color: var(--fill-color);\n",
              "    }\n",
              "    20% {\n",
              "      border-color: transparent;\n",
              "      border-left-color: var(--fill-color);\n",
              "      border-top-color: var(--fill-color);\n",
              "    }\n",
              "    30% {\n",
              "      border-color: transparent;\n",
              "      border-left-color: var(--fill-color);\n",
              "      border-top-color: var(--fill-color);\n",
              "      border-right-color: var(--fill-color);\n",
              "    }\n",
              "    40% {\n",
              "      border-color: transparent;\n",
              "      border-right-color: var(--fill-color);\n",
              "      border-top-color: var(--fill-color);\n",
              "    }\n",
              "    60% {\n",
              "      border-color: transparent;\n",
              "      border-right-color: var(--fill-color);\n",
              "    }\n",
              "    80% {\n",
              "      border-color: transparent;\n",
              "      border-right-color: var(--fill-color);\n",
              "      border-bottom-color: var(--fill-color);\n",
              "    }\n",
              "    90% {\n",
              "      border-color: transparent;\n",
              "      border-bottom-color: var(--fill-color);\n",
              "    }\n",
              "  }\n",
              "</style>\n",
              "\n",
              "  <script>\n",
              "    async function quickchart(key) {\n",
              "      const quickchartButtonEl =\n",
              "        document.querySelector('#' + key + ' button');\n",
              "      quickchartButtonEl.disabled = true;  // To prevent multiple clicks.\n",
              "      quickchartButtonEl.classList.add('colab-df-spinner');\n",
              "      try {\n",
              "        const charts = await google.colab.kernel.invokeFunction(\n",
              "            'suggestCharts', [key], {});\n",
              "      } catch (error) {\n",
              "        console.error('Error during call to suggestCharts:', error);\n",
              "      }\n",
              "      quickchartButtonEl.classList.remove('colab-df-spinner');\n",
              "      quickchartButtonEl.classList.add('colab-df-quickchart-complete');\n",
              "    }\n",
              "    (() => {\n",
              "      let quickchartButtonEl =\n",
              "        document.querySelector('#df-7a47a36d-5635-4b10-afe0-a6a10b265755 button');\n",
              "      quickchartButtonEl.style.display =\n",
              "        google.colab.kernel.accessAllowed ? 'block' : 'none';\n",
              "    })();\n",
              "  </script>\n",
              "</div>\n",
              "\n",
              "    </div>\n",
              "  </div>\n"
            ],
            "application/vnd.google.colaboratory.intrinsic+json": {
              "type": "dataframe",
              "variable_name": "data",
              "summary": "{\n  \"name\": \"data\",\n  \"rows\": 3522,\n  \"fields\": [\n    {\n      \"column\": \"Course Name\",\n      \"properties\": {\n        \"dtype\": \"string\",\n        \"num_unique_values\": 3416,\n        \"samples\": [\n          \"Create,a,Record,of,Students,using,Arrays,in,Java\",\n          \"Fundamentals,of,financial,and,management,accounting\",\n          \"When,Disaster,Meets,Conflict\"\n        ],\n        \"semantic_type\": \"\",\n        \"description\": \"\"\n      }\n    },\n    {\n      \"column\": \"Difficulty Level\",\n      \"properties\": {\n        \"dtype\": \"category\",\n        \"num_unique_values\": 5,\n        \"samples\": [\n          \"Advanced\",\n          \"Conversant\",\n          \"Intermediate\"\n        ],\n        \"semantic_type\": \"\",\n        \"description\": \"\"\n      }\n    },\n    {\n      \"column\": \"Course Description\",\n      \"properties\": {\n        \"dtype\": \"string\",\n        \"num_unique_values\": 3396,\n        \"samples\": [\n          \"This,course,can,also,be,taken,for,academic,credit,as,ECEA,5317,part,of,CU,Boulder\\ufffds,Master,of,Science,in,Electrical,Engineering,degree.,Upon,completion,of,this,course,the,learner,will,know,the,difference,between,systems,you,can,bet,your,life,on,mission,critical,and,those,which,provide,predictable,response,and,quality,of,service,reliable.,This,will,be,achieved,not,only,by,study,of,design,methods,and,patterns,for,mission,critical,systems,but,also,through,implementation,of,soft,real-time,systems,and,comparison,to,hard,real-time.,Methods,of,verification,to,determine,ability,to,meet,mission,critical,as,well,as,soft,real-time,requirements,will,be,learned,so,that,the,learner,can,properly,assess,risk,reliability,and,impact,of,failure,in,real-time,systems.,At,the,end,of,this,course,learners,will,be,able,to,apply,an,architectural,style,cyclic,executive,RTOS,or,embedded,Linux,to,more,detailed,design,of,a,mission,critical,system,a,soft,real-time,system,or,a,mixed,hard,and,soft,real-time,system,including,?\\\\tThorough,understanding,of,hardware/software,device,interfaces,and,resource,view,for,hardware,abstraction,layers,HAL,BSP,?\\\\tDesign,trade-offs,with,different,real-time,hardware,architectures,including,single,core,multi-core,hybrid-FPGA,GP-GPU,and,DSP,systems,with,emphasis,on,multi-core,?\\\\tMission,critical,embedded,systems,architecture,and,key,design,elements,?\\\\tFault,tolerant,processing,memory,and,I/O,concepts\",\n          \"This,unique,course,was,developed,by,veterinarians,at,the,world-renowned,University,of,California,Davis,School,of,Veterinary,Medicine.,The,course,will,address,horsemanship,from,a,welfare,perspective,within,the,context,of,\\ufffdThe,Five,Freedoms\\ufffd,of,animal,welfare.,We\\ufffdll,explore,equine,physiology,behavior,and,basic,needs,including,housing,nutrition,hygiene,and,disease,management.,You\\ufffdll,learn,how,to,perform,basic,tasks,to,assess,the,overall,condition,of,the,horse,and,identify,problem,areas.,We\\ufffdll,also,examine,the,specialized,needs,of,the,equine,athlete,and,the,major,responsibilities,we,as,owners,handlers,or,competitors,must,assume,in,order,to,ensure,the,health,and,welfare,of,our,equine,companions.,Finally,we\\ufffdll,look,several,special,topics,in,equine,welfare,including,disaster,planning,and,the,international,welfare,efforts,now,in,place,to,protect,working,horses,and,other,equids,in,key,industries,such,as,racing,international,competition,tourism,and,even,mining.,By,the,conclusion,of,the,course,you,will,be,well,equipped,to,develop,a,comprehensive,welfare,plan,for,any,horses,in,your,care.\",\n          \"If,you,work,in,marketing,sales,or,advertising,you,already,know,that,effective,communication,is,a,requirement.,This,can,be,even,more,difficult,when,expressing,your,ideas,in,a,persuasive,manner,in,English.,In,this,course,you,will,learn,to,use,English,more,efficiently,while,joining,successful,global,professionals,around,the,world.,Develop,your,skills,along,with,authentic,characters,that,work,in,marketing,and,also,work,hard,to,improve,their,communication,skills.,Learn,from,your,successes,and,failures,reflect,on,your,own,style,strengths,and,improvement,areas.,After,taking,this,course,you,will,be,able,to,\\ufffd,,,Express,your,ideas,through,efficient,emails,reports,and,persuasive,presentations,\\ufffd,,,Learn,words,and,phrases,related,to,market,research,branding,direct,marketing,advertising,costs,etc.,\\ufffd,,,Get,instant,feedback,about,the,efficiency,of,your,business,communication,skills,in,English,from,sales,and,marketing,professionals,from,around,the,world,\\ufffd,,,Become,part,of,a,global,community,of,business,professionals,who,are,developing,their,English,communication,skills\"\n        ],\n        \"semantic_type\": \"\",\n        \"description\": \"\"\n      }\n    },\n    {\n      \"column\": \"Skills\",\n      \"properties\": {\n        \"dtype\": \"string\",\n        \"num_unique_values\": 3424,\n        \"samples\": [\n          \"economy  pandemic  global city  financial centre  crisis  global  curiosity  slum  emerging markets  Creativity social-sciences governance-and-society\",\n          \"i-deas  User Experience  Human Computer Interaction  thought  Map  experience  interview  interaction design  persona user experience  User Research computer-science design-and-product\",\n          \"Leadership and Management  organizational conflict  leadership  Human Resources  conflict resolution  performance appraisal  Conflict Management  interview  Performance Management  performance business leadership-and-management\"\n        ],\n        \"semantic_type\": \"\",\n        \"description\": \"\"\n      }\n    }\n  ]\n}"
            }
          },
          "metadata": {},
          "execution_count": 13
        }
      ],
      "source": [
        "data.head(5)"
      ]
    },
    {
      "cell_type": "markdown",
      "id": "0f7c8162",
      "metadata": {
        "papermill": {
          "duration": 0.054478,
          "end_time": "2022-01-26T14:19:46.687351",
          "exception": false,
          "start_time": "2022-01-26T14:19:46.632873",
          "status": "completed"
        },
        "tags": [],
        "id": "0f7c8162"
      },
      "source": [
        "# Tags Column\n",
        "\n",
        "The tags column is the combination of the following columns : **Course Name** + **Difficulty Level** + **Course Description** + **Skills**"
      ]
    },
    {
      "cell_type": "code",
      "execution_count": null,
      "id": "7efa10a9",
      "metadata": {
        "execution": {
          "iopub.execute_input": "2022-01-26T14:19:46.805542Z",
          "iopub.status.busy": "2022-01-26T14:19:46.804854Z",
          "iopub.status.idle": "2022-01-26T14:19:46.823188Z",
          "shell.execute_reply": "2022-01-26T14:19:46.822651Z",
          "shell.execute_reply.started": "2022-01-26T12:55:58.319873Z"
        },
        "papermill": {
          "duration": 0.076499,
          "end_time": "2022-01-26T14:19:46.823340",
          "exception": false,
          "start_time": "2022-01-26T14:19:46.746841",
          "status": "completed"
        },
        "tags": [],
        "id": "7efa10a9"
      },
      "outputs": [],
      "source": [
        "data['tags'] = data['Course Name'] + data['Difficulty Level'] + data['Course Description'] + data['Skills']"
      ]
    },
    {
      "cell_type": "code",
      "execution_count": null,
      "id": "eee80759",
      "metadata": {
        "execution": {
          "iopub.execute_input": "2022-01-26T14:19:46.937064Z",
          "iopub.status.busy": "2022-01-26T14:19:46.936365Z",
          "iopub.status.idle": "2022-01-26T14:19:46.948262Z",
          "shell.execute_reply": "2022-01-26T14:19:46.948878Z",
          "shell.execute_reply.started": "2022-01-26T12:56:03.509244Z"
        },
        "papermill": {
          "duration": 0.070316,
          "end_time": "2022-01-26T14:19:46.949049",
          "exception": false,
          "start_time": "2022-01-26T14:19:46.878733",
          "status": "completed"
        },
        "tags": [],
        "colab": {
          "base_uri": "https://localhost:8080/",
          "height": 206
        },
        "id": "eee80759",
        "outputId": "d7181e68-6c65-4055-80c6-5d55e40537b7"
      },
      "outputs": [
        {
          "output_type": "execute_result",
          "data": {
            "text/plain": [
              "                                         Course Name Difficulty Level  \\\n",
              "0  Write,A,Feature,Length,Screenplay,For,Film,Or,...         Beginner   \n",
              "1  Business,Strategy,Business,Model,Canvas,Analys...         Beginner   \n",
              "2                      Silicon,Thin,Film,Solar,Cells         Advanced   \n",
              "3                               Finance,for,Managers     Intermediate   \n",
              "4       Retrieve,Data,using,Single-Table,SQL,Queries         Beginner   \n",
              "\n",
              "                                  Course Description  \\\n",
              "0  Write,a,Full,Length,Feature,Film,Script,In,thi...   \n",
              "1  By,the,end,of,this,guided,project,you,will,be,...   \n",
              "2  This,course,consists,of,a,general,presentation...   \n",
              "3  When,it,comes,to,numbers,there,is,always,more,...   \n",
              "4  In,this,course,you�ll,learn,how,to,effectively...   \n",
              "\n",
              "                                              Skills  \\\n",
              "0  Drama  Comedy  peering  screenwriting  film  D...   \n",
              "1  Finance  business plan  persona user experienc...   \n",
              "2  chemistry  physics  Solar Energy  film  lambda...   \n",
              "3  accounts receivable  dupont analysis  analysis...   \n",
              "4  Data Analysis  select sql  database management...   \n",
              "\n",
              "                                                tags  \n",
              "0  Write,A,Feature,Length,Screenplay,For,Film,Or,...  \n",
              "1  Business,Strategy,Business,Model,Canvas,Analys...  \n",
              "2  Silicon,Thin,Film,Solar,CellsAdvancedThis,cour...  \n",
              "3  Finance,for,ManagersIntermediateWhen,it,comes,...  \n",
              "4  Retrieve,Data,using,Single-Table,SQL,QueriesBe...  "
            ],
            "text/html": [
              "\n",
              "  <div id=\"df-14cfe03c-07ff-4c59-9c3d-8c13803d7aad\" class=\"colab-df-container\">\n",
              "    <div>\n",
              "<style scoped>\n",
              "    .dataframe tbody tr th:only-of-type {\n",
              "        vertical-align: middle;\n",
              "    }\n",
              "\n",
              "    .dataframe tbody tr th {\n",
              "        vertical-align: top;\n",
              "    }\n",
              "\n",
              "    .dataframe thead th {\n",
              "        text-align: right;\n",
              "    }\n",
              "</style>\n",
              "<table border=\"1\" class=\"dataframe\">\n",
              "  <thead>\n",
              "    <tr style=\"text-align: right;\">\n",
              "      <th></th>\n",
              "      <th>Course Name</th>\n",
              "      <th>Difficulty Level</th>\n",
              "      <th>Course Description</th>\n",
              "      <th>Skills</th>\n",
              "      <th>tags</th>\n",
              "    </tr>\n",
              "  </thead>\n",
              "  <tbody>\n",
              "    <tr>\n",
              "      <th>0</th>\n",
              "      <td>Write,A,Feature,Length,Screenplay,For,Film,Or,...</td>\n",
              "      <td>Beginner</td>\n",
              "      <td>Write,a,Full,Length,Feature,Film,Script,In,thi...</td>\n",
              "      <td>Drama  Comedy  peering  screenwriting  film  D...</td>\n",
              "      <td>Write,A,Feature,Length,Screenplay,For,Film,Or,...</td>\n",
              "    </tr>\n",
              "    <tr>\n",
              "      <th>1</th>\n",
              "      <td>Business,Strategy,Business,Model,Canvas,Analys...</td>\n",
              "      <td>Beginner</td>\n",
              "      <td>By,the,end,of,this,guided,project,you,will,be,...</td>\n",
              "      <td>Finance  business plan  persona user experienc...</td>\n",
              "      <td>Business,Strategy,Business,Model,Canvas,Analys...</td>\n",
              "    </tr>\n",
              "    <tr>\n",
              "      <th>2</th>\n",
              "      <td>Silicon,Thin,Film,Solar,Cells</td>\n",
              "      <td>Advanced</td>\n",
              "      <td>This,course,consists,of,a,general,presentation...</td>\n",
              "      <td>chemistry  physics  Solar Energy  film  lambda...</td>\n",
              "      <td>Silicon,Thin,Film,Solar,CellsAdvancedThis,cour...</td>\n",
              "    </tr>\n",
              "    <tr>\n",
              "      <th>3</th>\n",
              "      <td>Finance,for,Managers</td>\n",
              "      <td>Intermediate</td>\n",
              "      <td>When,it,comes,to,numbers,there,is,always,more,...</td>\n",
              "      <td>accounts receivable  dupont analysis  analysis...</td>\n",
              "      <td>Finance,for,ManagersIntermediateWhen,it,comes,...</td>\n",
              "    </tr>\n",
              "    <tr>\n",
              "      <th>4</th>\n",
              "      <td>Retrieve,Data,using,Single-Table,SQL,Queries</td>\n",
              "      <td>Beginner</td>\n",
              "      <td>In,this,course,you�ll,learn,how,to,effectively...</td>\n",
              "      <td>Data Analysis  select sql  database management...</td>\n",
              "      <td>Retrieve,Data,using,Single-Table,SQL,QueriesBe...</td>\n",
              "    </tr>\n",
              "  </tbody>\n",
              "</table>\n",
              "</div>\n",
              "    <div class=\"colab-df-buttons\">\n",
              "\n",
              "  <div class=\"colab-df-container\">\n",
              "    <button class=\"colab-df-convert\" onclick=\"convertToInteractive('df-14cfe03c-07ff-4c59-9c3d-8c13803d7aad')\"\n",
              "            title=\"Convert this dataframe to an interactive table.\"\n",
              "            style=\"display:none;\">\n",
              "\n",
              "  <svg xmlns=\"http://www.w3.org/2000/svg\" height=\"24px\" viewBox=\"0 -960 960 960\">\n",
              "    <path d=\"M120-120v-720h720v720H120Zm60-500h600v-160H180v160Zm220 220h160v-160H400v160Zm0 220h160v-160H400v160ZM180-400h160v-160H180v160Zm440 0h160v-160H620v160ZM180-180h160v-160H180v160Zm440 0h160v-160H620v160Z\"/>\n",
              "  </svg>\n",
              "    </button>\n",
              "\n",
              "  <style>\n",
              "    .colab-df-container {\n",
              "      display:flex;\n",
              "      gap: 12px;\n",
              "    }\n",
              "\n",
              "    .colab-df-convert {\n",
              "      background-color: #E8F0FE;\n",
              "      border: none;\n",
              "      border-radius: 50%;\n",
              "      cursor: pointer;\n",
              "      display: none;\n",
              "      fill: #1967D2;\n",
              "      height: 32px;\n",
              "      padding: 0 0 0 0;\n",
              "      width: 32px;\n",
              "    }\n",
              "\n",
              "    .colab-df-convert:hover {\n",
              "      background-color: #E2EBFA;\n",
              "      box-shadow: 0px 1px 2px rgba(60, 64, 67, 0.3), 0px 1px 3px 1px rgba(60, 64, 67, 0.15);\n",
              "      fill: #174EA6;\n",
              "    }\n",
              "\n",
              "    .colab-df-buttons div {\n",
              "      margin-bottom: 4px;\n",
              "    }\n",
              "\n",
              "    [theme=dark] .colab-df-convert {\n",
              "      background-color: #3B4455;\n",
              "      fill: #D2E3FC;\n",
              "    }\n",
              "\n",
              "    [theme=dark] .colab-df-convert:hover {\n",
              "      background-color: #434B5C;\n",
              "      box-shadow: 0px 1px 3px 1px rgba(0, 0, 0, 0.15);\n",
              "      filter: drop-shadow(0px 1px 2px rgba(0, 0, 0, 0.3));\n",
              "      fill: #FFFFFF;\n",
              "    }\n",
              "  </style>\n",
              "\n",
              "    <script>\n",
              "      const buttonEl =\n",
              "        document.querySelector('#df-14cfe03c-07ff-4c59-9c3d-8c13803d7aad button.colab-df-convert');\n",
              "      buttonEl.style.display =\n",
              "        google.colab.kernel.accessAllowed ? 'block' : 'none';\n",
              "\n",
              "      async function convertToInteractive(key) {\n",
              "        const element = document.querySelector('#df-14cfe03c-07ff-4c59-9c3d-8c13803d7aad');\n",
              "        const dataTable =\n",
              "          await google.colab.kernel.invokeFunction('convertToInteractive',\n",
              "                                                    [key], {});\n",
              "        if (!dataTable) return;\n",
              "\n",
              "        const docLinkHtml = 'Like what you see? Visit the ' +\n",
              "          '<a target=\"_blank\" href=https://colab.research.google.com/notebooks/data_table.ipynb>data table notebook</a>'\n",
              "          + ' to learn more about interactive tables.';\n",
              "        element.innerHTML = '';\n",
              "        dataTable['output_type'] = 'display_data';\n",
              "        await google.colab.output.renderOutput(dataTable, element);\n",
              "        const docLink = document.createElement('div');\n",
              "        docLink.innerHTML = docLinkHtml;\n",
              "        element.appendChild(docLink);\n",
              "      }\n",
              "    </script>\n",
              "  </div>\n",
              "\n",
              "\n",
              "<div id=\"df-8862fb9d-ca18-4433-aa3d-630b4e5d0ebb\">\n",
              "  <button class=\"colab-df-quickchart\" onclick=\"quickchart('df-8862fb9d-ca18-4433-aa3d-630b4e5d0ebb')\"\n",
              "            title=\"Suggest charts\"\n",
              "            style=\"display:none;\">\n",
              "\n",
              "<svg xmlns=\"http://www.w3.org/2000/svg\" height=\"24px\"viewBox=\"0 0 24 24\"\n",
              "     width=\"24px\">\n",
              "    <g>\n",
              "        <path d=\"M19 3H5c-1.1 0-2 .9-2 2v14c0 1.1.9 2 2 2h14c1.1 0 2-.9 2-2V5c0-1.1-.9-2-2-2zM9 17H7v-7h2v7zm4 0h-2V7h2v10zm4 0h-2v-4h2v4z\"/>\n",
              "    </g>\n",
              "</svg>\n",
              "  </button>\n",
              "\n",
              "<style>\n",
              "  .colab-df-quickchart {\n",
              "      --bg-color: #E8F0FE;\n",
              "      --fill-color: #1967D2;\n",
              "      --hover-bg-color: #E2EBFA;\n",
              "      --hover-fill-color: #174EA6;\n",
              "      --disabled-fill-color: #AAA;\n",
              "      --disabled-bg-color: #DDD;\n",
              "  }\n",
              "\n",
              "  [theme=dark] .colab-df-quickchart {\n",
              "      --bg-color: #3B4455;\n",
              "      --fill-color: #D2E3FC;\n",
              "      --hover-bg-color: #434B5C;\n",
              "      --hover-fill-color: #FFFFFF;\n",
              "      --disabled-bg-color: #3B4455;\n",
              "      --disabled-fill-color: #666;\n",
              "  }\n",
              "\n",
              "  .colab-df-quickchart {\n",
              "    background-color: var(--bg-color);\n",
              "    border: none;\n",
              "    border-radius: 50%;\n",
              "    cursor: pointer;\n",
              "    display: none;\n",
              "    fill: var(--fill-color);\n",
              "    height: 32px;\n",
              "    padding: 0;\n",
              "    width: 32px;\n",
              "  }\n",
              "\n",
              "  .colab-df-quickchart:hover {\n",
              "    background-color: var(--hover-bg-color);\n",
              "    box-shadow: 0 1px 2px rgba(60, 64, 67, 0.3), 0 1px 3px 1px rgba(60, 64, 67, 0.15);\n",
              "    fill: var(--button-hover-fill-color);\n",
              "  }\n",
              "\n",
              "  .colab-df-quickchart-complete:disabled,\n",
              "  .colab-df-quickchart-complete:disabled:hover {\n",
              "    background-color: var(--disabled-bg-color);\n",
              "    fill: var(--disabled-fill-color);\n",
              "    box-shadow: none;\n",
              "  }\n",
              "\n",
              "  .colab-df-spinner {\n",
              "    border: 2px solid var(--fill-color);\n",
              "    border-color: transparent;\n",
              "    border-bottom-color: var(--fill-color);\n",
              "    animation:\n",
              "      spin 1s steps(1) infinite;\n",
              "  }\n",
              "\n",
              "  @keyframes spin {\n",
              "    0% {\n",
              "      border-color: transparent;\n",
              "      border-bottom-color: var(--fill-color);\n",
              "      border-left-color: var(--fill-color);\n",
              "    }\n",
              "    20% {\n",
              "      border-color: transparent;\n",
              "      border-left-color: var(--fill-color);\n",
              "      border-top-color: var(--fill-color);\n",
              "    }\n",
              "    30% {\n",
              "      border-color: transparent;\n",
              "      border-left-color: var(--fill-color);\n",
              "      border-top-color: var(--fill-color);\n",
              "      border-right-color: var(--fill-color);\n",
              "    }\n",
              "    40% {\n",
              "      border-color: transparent;\n",
              "      border-right-color: var(--fill-color);\n",
              "      border-top-color: var(--fill-color);\n",
              "    }\n",
              "    60% {\n",
              "      border-color: transparent;\n",
              "      border-right-color: var(--fill-color);\n",
              "    }\n",
              "    80% {\n",
              "      border-color: transparent;\n",
              "      border-right-color: var(--fill-color);\n",
              "      border-bottom-color: var(--fill-color);\n",
              "    }\n",
              "    90% {\n",
              "      border-color: transparent;\n",
              "      border-bottom-color: var(--fill-color);\n",
              "    }\n",
              "  }\n",
              "</style>\n",
              "\n",
              "  <script>\n",
              "    async function quickchart(key) {\n",
              "      const quickchartButtonEl =\n",
              "        document.querySelector('#' + key + ' button');\n",
              "      quickchartButtonEl.disabled = true;  // To prevent multiple clicks.\n",
              "      quickchartButtonEl.classList.add('colab-df-spinner');\n",
              "      try {\n",
              "        const charts = await google.colab.kernel.invokeFunction(\n",
              "            'suggestCharts', [key], {});\n",
              "      } catch (error) {\n",
              "        console.error('Error during call to suggestCharts:', error);\n",
              "      }\n",
              "      quickchartButtonEl.classList.remove('colab-df-spinner');\n",
              "      quickchartButtonEl.classList.add('colab-df-quickchart-complete');\n",
              "    }\n",
              "    (() => {\n",
              "      let quickchartButtonEl =\n",
              "        document.querySelector('#df-8862fb9d-ca18-4433-aa3d-630b4e5d0ebb button');\n",
              "      quickchartButtonEl.style.display =\n",
              "        google.colab.kernel.accessAllowed ? 'block' : 'none';\n",
              "    })();\n",
              "  </script>\n",
              "</div>\n",
              "\n",
              "    </div>\n",
              "  </div>\n"
            ],
            "application/vnd.google.colaboratory.intrinsic+json": {
              "type": "dataframe",
              "variable_name": "data",
              "summary": "{\n  \"name\": \"data\",\n  \"rows\": 3522,\n  \"fields\": [\n    {\n      \"column\": \"Course Name\",\n      \"properties\": {\n        \"dtype\": \"string\",\n        \"num_unique_values\": 3416,\n        \"samples\": [\n          \"Create,a,Record,of,Students,using,Arrays,in,Java\",\n          \"Fundamentals,of,financial,and,management,accounting\",\n          \"When,Disaster,Meets,Conflict\"\n        ],\n        \"semantic_type\": \"\",\n        \"description\": \"\"\n      }\n    },\n    {\n      \"column\": \"Difficulty Level\",\n      \"properties\": {\n        \"dtype\": \"category\",\n        \"num_unique_values\": 5,\n        \"samples\": [\n          \"Advanced\",\n          \"Conversant\",\n          \"Intermediate\"\n        ],\n        \"semantic_type\": \"\",\n        \"description\": \"\"\n      }\n    },\n    {\n      \"column\": \"Course Description\",\n      \"properties\": {\n        \"dtype\": \"string\",\n        \"num_unique_values\": 3396,\n        \"samples\": [\n          \"This,course,can,also,be,taken,for,academic,credit,as,ECEA,5317,part,of,CU,Boulder\\ufffds,Master,of,Science,in,Electrical,Engineering,degree.,Upon,completion,of,this,course,the,learner,will,know,the,difference,between,systems,you,can,bet,your,life,on,mission,critical,and,those,which,provide,predictable,response,and,quality,of,service,reliable.,This,will,be,achieved,not,only,by,study,of,design,methods,and,patterns,for,mission,critical,systems,but,also,through,implementation,of,soft,real-time,systems,and,comparison,to,hard,real-time.,Methods,of,verification,to,determine,ability,to,meet,mission,critical,as,well,as,soft,real-time,requirements,will,be,learned,so,that,the,learner,can,properly,assess,risk,reliability,and,impact,of,failure,in,real-time,systems.,At,the,end,of,this,course,learners,will,be,able,to,apply,an,architectural,style,cyclic,executive,RTOS,or,embedded,Linux,to,more,detailed,design,of,a,mission,critical,system,a,soft,real-time,system,or,a,mixed,hard,and,soft,real-time,system,including,?\\\\tThorough,understanding,of,hardware/software,device,interfaces,and,resource,view,for,hardware,abstraction,layers,HAL,BSP,?\\\\tDesign,trade-offs,with,different,real-time,hardware,architectures,including,single,core,multi-core,hybrid-FPGA,GP-GPU,and,DSP,systems,with,emphasis,on,multi-core,?\\\\tMission,critical,embedded,systems,architecture,and,key,design,elements,?\\\\tFault,tolerant,processing,memory,and,I/O,concepts\",\n          \"This,unique,course,was,developed,by,veterinarians,at,the,world-renowned,University,of,California,Davis,School,of,Veterinary,Medicine.,The,course,will,address,horsemanship,from,a,welfare,perspective,within,the,context,of,\\ufffdThe,Five,Freedoms\\ufffd,of,animal,welfare.,We\\ufffdll,explore,equine,physiology,behavior,and,basic,needs,including,housing,nutrition,hygiene,and,disease,management.,You\\ufffdll,learn,how,to,perform,basic,tasks,to,assess,the,overall,condition,of,the,horse,and,identify,problem,areas.,We\\ufffdll,also,examine,the,specialized,needs,of,the,equine,athlete,and,the,major,responsibilities,we,as,owners,handlers,or,competitors,must,assume,in,order,to,ensure,the,health,and,welfare,of,our,equine,companions.,Finally,we\\ufffdll,look,several,special,topics,in,equine,welfare,including,disaster,planning,and,the,international,welfare,efforts,now,in,place,to,protect,working,horses,and,other,equids,in,key,industries,such,as,racing,international,competition,tourism,and,even,mining.,By,the,conclusion,of,the,course,you,will,be,well,equipped,to,develop,a,comprehensive,welfare,plan,for,any,horses,in,your,care.\",\n          \"If,you,work,in,marketing,sales,or,advertising,you,already,know,that,effective,communication,is,a,requirement.,This,can,be,even,more,difficult,when,expressing,your,ideas,in,a,persuasive,manner,in,English.,In,this,course,you,will,learn,to,use,English,more,efficiently,while,joining,successful,global,professionals,around,the,world.,Develop,your,skills,along,with,authentic,characters,that,work,in,marketing,and,also,work,hard,to,improve,their,communication,skills.,Learn,from,your,successes,and,failures,reflect,on,your,own,style,strengths,and,improvement,areas.,After,taking,this,course,you,will,be,able,to,\\ufffd,,,Express,your,ideas,through,efficient,emails,reports,and,persuasive,presentations,\\ufffd,,,Learn,words,and,phrases,related,to,market,research,branding,direct,marketing,advertising,costs,etc.,\\ufffd,,,Get,instant,feedback,about,the,efficiency,of,your,business,communication,skills,in,English,from,sales,and,marketing,professionals,from,around,the,world,\\ufffd,,,Become,part,of,a,global,community,of,business,professionals,who,are,developing,their,English,communication,skills\"\n        ],\n        \"semantic_type\": \"\",\n        \"description\": \"\"\n      }\n    },\n    {\n      \"column\": \"Skills\",\n      \"properties\": {\n        \"dtype\": \"string\",\n        \"num_unique_values\": 3424,\n        \"samples\": [\n          \"economy  pandemic  global city  financial centre  crisis  global  curiosity  slum  emerging markets  Creativity social-sciences governance-and-society\",\n          \"i-deas  User Experience  Human Computer Interaction  thought  Map  experience  interview  interaction design  persona user experience  User Research computer-science design-and-product\",\n          \"Leadership and Management  organizational conflict  leadership  Human Resources  conflict resolution  performance appraisal  Conflict Management  interview  Performance Management  performance business leadership-and-management\"\n        ],\n        \"semantic_type\": \"\",\n        \"description\": \"\"\n      }\n    },\n    {\n      \"column\": \"tags\",\n      \"properties\": {\n        \"dtype\": \"string\",\n        \"num_unique_values\": 3424,\n        \"samples\": [\n          \"The,City,and,You,Find,Your,Best,PlaceBeginnerWelcome,to,The,City,and,You,Find,Your,Best,Place.,I'm,excited,to,have,you,in,the,class,and,look,forward,to,your,contributions,to,the,other,learners,in,our,community.,This,free,course,will,provide,the,knowledge,and,the,tools,needed,to,understand,what,cities,do,why,they,matter,the,forces,shaping,the,greatest,wave,of,urbanization,in,history,and,how,to,pick,the,right,place,for,you.,The,course,will,also,help,you,develop,critical,thinking,skills.,We'll,accomplish,this,by,providing,evidence,of,the,importance,of,cities,and,why,and,how,they,matter,to,you.,Then,we\\ufffdll,ask,you,to,apply,what,you\\ufffdve,learned,in,an,exercise,which,will,help,you,assess,your,own,community,and,find,your,best,place.,,This,course,is,accessible,and,open,to,anyone,who,is,interested,in,learning,more,about,cities,and,the,ways,they,affect,our,lives.,It,is,organized,around,five,key,modules,1,Why,Cities,Matter,,2,A,World,of,Cities,,3,The,Creative,City,4,The,Divided,City,and,the,New,Urban,Crisis,and,5,How,to,Find,the,Best,Place,for,You.,,After,completing,the,course,you,will,be,able,to,,1,Identify,why,cities,are,the,drivers,of,economic,prosperity;,2,Explain,the,drivers,and,implications,of,fast-growing,urbanization,worldwide;,3,Outline,the,key,characteristics,of,a,creative,and,innovative,city;,4,Describe,the,social,divides,and,challenges,facing,cities,and,the,solutions,cities,are,using,to,address,them;,and,5,Recognize,the,trade-offs,of,staying,in,your,current,city,versus,moving,and,identify,the,best,place,for,you,and,your,family,to,live.,Of,course,the,world,has,changed,a,great,deal,since,I,developed,this,course.,The,Global,COVID-19,Pandemic,is,affecting,cities,businesses,and,people,around,the,world.,It,is,something,I,have,been,writing,about,and,working,with,mayors,city,managers,economic,developers,urban,leaders,and,communities,across,the,globe.,I,have,put,together,a,new,module,on,Cities,and,the,Coronavirus,to,help,you,better,understand,the,ways,in,which,the,Covid-19,crisis,is,impacting,cities,and,how,you,can,best,understand,and,deal,with,that.,I\\ufffdd,like,to,wish,each,and,every,one,of,you,good,luck,as,you,get,started,on,this,journey.,I,hope,you,enjoy,the,course!economy  pandemic  global city  financial centre  crisis  global  curiosity  slum  emerging markets  Creativity social-sciences governance-and-society\",\n          \"User,Experience,Research,&,PrototypingAdvancedWhat,makes,for,a,great,user,experience?,How,can,you,consistently,design,experiences,that,work,well,are,easy,to,use,and,people,want,to,use?,This,course,will,teach,you,the,core,process,of,experience,design,and,how,to,effectively,evaluate,your,work,with,the,people,for,whom,you,are,designing.,You'll,learn,fundamental,methods,of,design,research,that,will,enable,you,to,effectively,understand,people,the,sequences,of,their,actions,and,the,context,in,which,they,work.,Through,the,assignments,you\\ufffdll,learn,practical,techniques,for,making,sense,of,what,you,see,and,transform,your,observations,into,meaningful,actionable,insights,and,unique,opportunity,areas,for,design.,You\\ufffdll,also,explore,how,to,generate,ideas,in,response,to,the,opportunities,identified,and,learn,methods,for,making,your,ideas,tangible.,By,answering,specific,questions,and,refining,your,concepts,you\\ufffdll,move,closer,to,making,your,ideas,real.,We\\ufffdll,use,cases,from,a,variety,of,industries,including,health,education,transportation,finance,and,beyond,to,illustrate,how,these,methods,work,across,different,domains.,,Good,luck,and,we,hope,you,enjoy,the,course!i-deas  User Experience  Human Computer Interaction  thought  Map  experience  interview  interaction design  persona user experience  User Research computer-science design-and-product\",\n          \"The,Manager's,Toolkit,A,Practical,Guide,to,Managing,People,at,WorkBeginnerThe,aim,of,this,course,is,to,give,you,a,practical,guide,to,managing,people,at,work.,It,does,not,matter,whether,you,are,a,first,time,manager,in,a,shop,or,a,middle,manager,in,an,office,environment;,the,same,skills,apply,to,every,work,place.,In,the,course,you,will,engage,with,some,HR,theories,and,then,see,how,they,translate,into,every,day,working,life.,,At,the,end,of,the,course,we,hope,you,will,be,better,equipped,to,choose,a,suitable,employee,to,motivate,and,appraise,your,team,to,manage,conflict,in,the,work,place,and,to,lead,and,make,decision,on,a,day,to,day,basis.Leadership and Management  organizational conflict  leadership  Human Resources  conflict resolution  performance appraisal  Conflict Management  interview  Performance Management  performance business leadership-and-management\"\n        ],\n        \"semantic_type\": \"\",\n        \"description\": \"\"\n      }\n    }\n  ]\n}"
            }
          },
          "metadata": {},
          "execution_count": 15
        }
      ],
      "source": [
        "data.head(5)"
      ]
    },
    {
      "cell_type": "code",
      "execution_count": null,
      "id": "66879f0c",
      "metadata": {
        "execution": {
          "iopub.execute_input": "2022-01-26T14:19:47.064568Z",
          "iopub.status.busy": "2022-01-26T14:19:47.063864Z",
          "iopub.status.idle": "2022-01-26T14:19:47.068955Z",
          "shell.execute_reply": "2022-01-26T14:19:47.069577Z",
          "shell.execute_reply.started": "2022-01-26T12:56:19.913202Z"
        },
        "papermill": {
          "duration": 0.064563,
          "end_time": "2022-01-26T14:19:47.069883",
          "exception": false,
          "start_time": "2022-01-26T14:19:47.005320",
          "status": "completed"
        },
        "tags": [],
        "colab": {
          "base_uri": "https://localhost:8080/",
          "height": 105
        },
        "id": "66879f0c",
        "outputId": "8c2e1d57-892e-465b-ac18-deba461f4d55"
      },
      "outputs": [
        {
          "output_type": "execute_result",
          "data": {
            "text/plain": [
              "'Business,Strategy,Business,Model,Canvas,Analysis,with,MiroBeginnerBy,the,end,of,this,guided,project,you,will,be,fluent,in,identifying,and,creating,Business,Model,Canvas,solutions,based,on,previous,high-level,analyses,and,research,data.,This,will,enable,you,to,identify,and,map,the,elements,required,for,new,products,and,services.,Furthermore,it,is,essential,for,generating,positive,results,for,your,business,venture.,This,guided,project,is,designed,to,engage,and,harness,your,visionary,and,exploratory,abilities.,You,will,use,proven,models,in,strategy,and,product,development,with,the,Miro,platform,to,explore,and,analyse,your,business,propositions.,,We,will,practice,critically,examining,results,from,previous,analysis,and,research,results,in,deriving,the,values,for,each,of,the,business,model,sections.Finance  business plan  persona user experience  business model canvas  Planning  Business  project  Product Development  presentation  Strategy business business-strategy'"
            ],
            "application/vnd.google.colaboratory.intrinsic+json": {
              "type": "string"
            }
          },
          "metadata": {},
          "execution_count": 16
        }
      ],
      "source": [
        "data['tags'].iloc[1]"
      ]
    },
    {
      "cell_type": "markdown",
      "id": "40ebb711",
      "metadata": {
        "papermill": {
          "duration": 0.055116,
          "end_time": "2022-01-26T14:19:47.180933",
          "exception": false,
          "start_time": "2022-01-26T14:19:47.125817",
          "status": "completed"
        },
        "tags": [],
        "id": "40ebb711"
      },
      "source": [
        "# Dataframe to be used"
      ]
    },
    {
      "cell_type": "code",
      "execution_count": null,
      "id": "b3807261",
      "metadata": {
        "execution": {
          "iopub.execute_input": "2022-01-26T14:19:47.295634Z",
          "iopub.status.busy": "2022-01-26T14:19:47.294976Z",
          "iopub.status.idle": "2022-01-26T14:19:47.300427Z",
          "shell.execute_reply": "2022-01-26T14:19:47.300988Z",
          "shell.execute_reply.started": "2022-01-26T12:56:47.650782Z"
        },
        "papermill": {
          "duration": 0.064683,
          "end_time": "2022-01-26T14:19:47.301174",
          "exception": false,
          "start_time": "2022-01-26T14:19:47.236491",
          "status": "completed"
        },
        "tags": [],
        "id": "b3807261"
      },
      "outputs": [],
      "source": [
        "new_df = data[['Course Name','tags']]"
      ]
    },
    {
      "cell_type": "code",
      "execution_count": null,
      "id": "e4f516b3",
      "metadata": {
        "execution": {
          "iopub.execute_input": "2022-01-26T14:19:47.423897Z",
          "iopub.status.busy": "2022-01-26T14:19:47.423181Z",
          "iopub.status.idle": "2022-01-26T14:19:47.425800Z",
          "shell.execute_reply": "2022-01-26T14:19:47.426278Z",
          "shell.execute_reply.started": "2022-01-26T12:56:53.601235Z"
        },
        "papermill": {
          "duration": 0.069032,
          "end_time": "2022-01-26T14:19:47.426446",
          "exception": false,
          "start_time": "2022-01-26T14:19:47.357414",
          "status": "completed"
        },
        "tags": [],
        "colab": {
          "base_uri": "https://localhost:8080/",
          "height": 206
        },
        "id": "e4f516b3",
        "outputId": "2ae243df-3963-431c-fe72-b37875aecf90"
      },
      "outputs": [
        {
          "output_type": "execute_result",
          "data": {
            "text/plain": [
              "                                         Course Name  \\\n",
              "0  Write,A,Feature,Length,Screenplay,For,Film,Or,...   \n",
              "1  Business,Strategy,Business,Model,Canvas,Analys...   \n",
              "2                      Silicon,Thin,Film,Solar,Cells   \n",
              "3                               Finance,for,Managers   \n",
              "4       Retrieve,Data,using,Single-Table,SQL,Queries   \n",
              "\n",
              "                                                tags  \n",
              "0  Write,A,Feature,Length,Screenplay,For,Film,Or,...  \n",
              "1  Business,Strategy,Business,Model,Canvas,Analys...  \n",
              "2  Silicon,Thin,Film,Solar,CellsAdvancedThis,cour...  \n",
              "3  Finance,for,ManagersIntermediateWhen,it,comes,...  \n",
              "4  Retrieve,Data,using,Single-Table,SQL,QueriesBe...  "
            ],
            "text/html": [
              "\n",
              "  <div id=\"df-de0b7ff5-825d-4824-b8e8-db48337fc4e7\" class=\"colab-df-container\">\n",
              "    <div>\n",
              "<style scoped>\n",
              "    .dataframe tbody tr th:only-of-type {\n",
              "        vertical-align: middle;\n",
              "    }\n",
              "\n",
              "    .dataframe tbody tr th {\n",
              "        vertical-align: top;\n",
              "    }\n",
              "\n",
              "    .dataframe thead th {\n",
              "        text-align: right;\n",
              "    }\n",
              "</style>\n",
              "<table border=\"1\" class=\"dataframe\">\n",
              "  <thead>\n",
              "    <tr style=\"text-align: right;\">\n",
              "      <th></th>\n",
              "      <th>Course Name</th>\n",
              "      <th>tags</th>\n",
              "    </tr>\n",
              "  </thead>\n",
              "  <tbody>\n",
              "    <tr>\n",
              "      <th>0</th>\n",
              "      <td>Write,A,Feature,Length,Screenplay,For,Film,Or,...</td>\n",
              "      <td>Write,A,Feature,Length,Screenplay,For,Film,Or,...</td>\n",
              "    </tr>\n",
              "    <tr>\n",
              "      <th>1</th>\n",
              "      <td>Business,Strategy,Business,Model,Canvas,Analys...</td>\n",
              "      <td>Business,Strategy,Business,Model,Canvas,Analys...</td>\n",
              "    </tr>\n",
              "    <tr>\n",
              "      <th>2</th>\n",
              "      <td>Silicon,Thin,Film,Solar,Cells</td>\n",
              "      <td>Silicon,Thin,Film,Solar,CellsAdvancedThis,cour...</td>\n",
              "    </tr>\n",
              "    <tr>\n",
              "      <th>3</th>\n",
              "      <td>Finance,for,Managers</td>\n",
              "      <td>Finance,for,ManagersIntermediateWhen,it,comes,...</td>\n",
              "    </tr>\n",
              "    <tr>\n",
              "      <th>4</th>\n",
              "      <td>Retrieve,Data,using,Single-Table,SQL,Queries</td>\n",
              "      <td>Retrieve,Data,using,Single-Table,SQL,QueriesBe...</td>\n",
              "    </tr>\n",
              "  </tbody>\n",
              "</table>\n",
              "</div>\n",
              "    <div class=\"colab-df-buttons\">\n",
              "\n",
              "  <div class=\"colab-df-container\">\n",
              "    <button class=\"colab-df-convert\" onclick=\"convertToInteractive('df-de0b7ff5-825d-4824-b8e8-db48337fc4e7')\"\n",
              "            title=\"Convert this dataframe to an interactive table.\"\n",
              "            style=\"display:none;\">\n",
              "\n",
              "  <svg xmlns=\"http://www.w3.org/2000/svg\" height=\"24px\" viewBox=\"0 -960 960 960\">\n",
              "    <path d=\"M120-120v-720h720v720H120Zm60-500h600v-160H180v160Zm220 220h160v-160H400v160Zm0 220h160v-160H400v160ZM180-400h160v-160H180v160Zm440 0h160v-160H620v160ZM180-180h160v-160H180v160Zm440 0h160v-160H620v160Z\"/>\n",
              "  </svg>\n",
              "    </button>\n",
              "\n",
              "  <style>\n",
              "    .colab-df-container {\n",
              "      display:flex;\n",
              "      gap: 12px;\n",
              "    }\n",
              "\n",
              "    .colab-df-convert {\n",
              "      background-color: #E8F0FE;\n",
              "      border: none;\n",
              "      border-radius: 50%;\n",
              "      cursor: pointer;\n",
              "      display: none;\n",
              "      fill: #1967D2;\n",
              "      height: 32px;\n",
              "      padding: 0 0 0 0;\n",
              "      width: 32px;\n",
              "    }\n",
              "\n",
              "    .colab-df-convert:hover {\n",
              "      background-color: #E2EBFA;\n",
              "      box-shadow: 0px 1px 2px rgba(60, 64, 67, 0.3), 0px 1px 3px 1px rgba(60, 64, 67, 0.15);\n",
              "      fill: #174EA6;\n",
              "    }\n",
              "\n",
              "    .colab-df-buttons div {\n",
              "      margin-bottom: 4px;\n",
              "    }\n",
              "\n",
              "    [theme=dark] .colab-df-convert {\n",
              "      background-color: #3B4455;\n",
              "      fill: #D2E3FC;\n",
              "    }\n",
              "\n",
              "    [theme=dark] .colab-df-convert:hover {\n",
              "      background-color: #434B5C;\n",
              "      box-shadow: 0px 1px 3px 1px rgba(0, 0, 0, 0.15);\n",
              "      filter: drop-shadow(0px 1px 2px rgba(0, 0, 0, 0.3));\n",
              "      fill: #FFFFFF;\n",
              "    }\n",
              "  </style>\n",
              "\n",
              "    <script>\n",
              "      const buttonEl =\n",
              "        document.querySelector('#df-de0b7ff5-825d-4824-b8e8-db48337fc4e7 button.colab-df-convert');\n",
              "      buttonEl.style.display =\n",
              "        google.colab.kernel.accessAllowed ? 'block' : 'none';\n",
              "\n",
              "      async function convertToInteractive(key) {\n",
              "        const element = document.querySelector('#df-de0b7ff5-825d-4824-b8e8-db48337fc4e7');\n",
              "        const dataTable =\n",
              "          await google.colab.kernel.invokeFunction('convertToInteractive',\n",
              "                                                    [key], {});\n",
              "        if (!dataTable) return;\n",
              "\n",
              "        const docLinkHtml = 'Like what you see? Visit the ' +\n",
              "          '<a target=\"_blank\" href=https://colab.research.google.com/notebooks/data_table.ipynb>data table notebook</a>'\n",
              "          + ' to learn more about interactive tables.';\n",
              "        element.innerHTML = '';\n",
              "        dataTable['output_type'] = 'display_data';\n",
              "        await google.colab.output.renderOutput(dataTable, element);\n",
              "        const docLink = document.createElement('div');\n",
              "        docLink.innerHTML = docLinkHtml;\n",
              "        element.appendChild(docLink);\n",
              "      }\n",
              "    </script>\n",
              "  </div>\n",
              "\n",
              "\n",
              "<div id=\"df-377cc936-fbb4-4233-ad5d-ae9633d1d6af\">\n",
              "  <button class=\"colab-df-quickchart\" onclick=\"quickchart('df-377cc936-fbb4-4233-ad5d-ae9633d1d6af')\"\n",
              "            title=\"Suggest charts\"\n",
              "            style=\"display:none;\">\n",
              "\n",
              "<svg xmlns=\"http://www.w3.org/2000/svg\" height=\"24px\"viewBox=\"0 0 24 24\"\n",
              "     width=\"24px\">\n",
              "    <g>\n",
              "        <path d=\"M19 3H5c-1.1 0-2 .9-2 2v14c0 1.1.9 2 2 2h14c1.1 0 2-.9 2-2V5c0-1.1-.9-2-2-2zM9 17H7v-7h2v7zm4 0h-2V7h2v10zm4 0h-2v-4h2v4z\"/>\n",
              "    </g>\n",
              "</svg>\n",
              "  </button>\n",
              "\n",
              "<style>\n",
              "  .colab-df-quickchart {\n",
              "      --bg-color: #E8F0FE;\n",
              "      --fill-color: #1967D2;\n",
              "      --hover-bg-color: #E2EBFA;\n",
              "      --hover-fill-color: #174EA6;\n",
              "      --disabled-fill-color: #AAA;\n",
              "      --disabled-bg-color: #DDD;\n",
              "  }\n",
              "\n",
              "  [theme=dark] .colab-df-quickchart {\n",
              "      --bg-color: #3B4455;\n",
              "      --fill-color: #D2E3FC;\n",
              "      --hover-bg-color: #434B5C;\n",
              "      --hover-fill-color: #FFFFFF;\n",
              "      --disabled-bg-color: #3B4455;\n",
              "      --disabled-fill-color: #666;\n",
              "  }\n",
              "\n",
              "  .colab-df-quickchart {\n",
              "    background-color: var(--bg-color);\n",
              "    border: none;\n",
              "    border-radius: 50%;\n",
              "    cursor: pointer;\n",
              "    display: none;\n",
              "    fill: var(--fill-color);\n",
              "    height: 32px;\n",
              "    padding: 0;\n",
              "    width: 32px;\n",
              "  }\n",
              "\n",
              "  .colab-df-quickchart:hover {\n",
              "    background-color: var(--hover-bg-color);\n",
              "    box-shadow: 0 1px 2px rgba(60, 64, 67, 0.3), 0 1px 3px 1px rgba(60, 64, 67, 0.15);\n",
              "    fill: var(--button-hover-fill-color);\n",
              "  }\n",
              "\n",
              "  .colab-df-quickchart-complete:disabled,\n",
              "  .colab-df-quickchart-complete:disabled:hover {\n",
              "    background-color: var(--disabled-bg-color);\n",
              "    fill: var(--disabled-fill-color);\n",
              "    box-shadow: none;\n",
              "  }\n",
              "\n",
              "  .colab-df-spinner {\n",
              "    border: 2px solid var(--fill-color);\n",
              "    border-color: transparent;\n",
              "    border-bottom-color: var(--fill-color);\n",
              "    animation:\n",
              "      spin 1s steps(1) infinite;\n",
              "  }\n",
              "\n",
              "  @keyframes spin {\n",
              "    0% {\n",
              "      border-color: transparent;\n",
              "      border-bottom-color: var(--fill-color);\n",
              "      border-left-color: var(--fill-color);\n",
              "    }\n",
              "    20% {\n",
              "      border-color: transparent;\n",
              "      border-left-color: var(--fill-color);\n",
              "      border-top-color: var(--fill-color);\n",
              "    }\n",
              "    30% {\n",
              "      border-color: transparent;\n",
              "      border-left-color: var(--fill-color);\n",
              "      border-top-color: var(--fill-color);\n",
              "      border-right-color: var(--fill-color);\n",
              "    }\n",
              "    40% {\n",
              "      border-color: transparent;\n",
              "      border-right-color: var(--fill-color);\n",
              "      border-top-color: var(--fill-color);\n",
              "    }\n",
              "    60% {\n",
              "      border-color: transparent;\n",
              "      border-right-color: var(--fill-color);\n",
              "    }\n",
              "    80% {\n",
              "      border-color: transparent;\n",
              "      border-right-color: var(--fill-color);\n",
              "      border-bottom-color: var(--fill-color);\n",
              "    }\n",
              "    90% {\n",
              "      border-color: transparent;\n",
              "      border-bottom-color: var(--fill-color);\n",
              "    }\n",
              "  }\n",
              "</style>\n",
              "\n",
              "  <script>\n",
              "    async function quickchart(key) {\n",
              "      const quickchartButtonEl =\n",
              "        document.querySelector('#' + key + ' button');\n",
              "      quickchartButtonEl.disabled = true;  // To prevent multiple clicks.\n",
              "      quickchartButtonEl.classList.add('colab-df-spinner');\n",
              "      try {\n",
              "        const charts = await google.colab.kernel.invokeFunction(\n",
              "            'suggestCharts', [key], {});\n",
              "      } catch (error) {\n",
              "        console.error('Error during call to suggestCharts:', error);\n",
              "      }\n",
              "      quickchartButtonEl.classList.remove('colab-df-spinner');\n",
              "      quickchartButtonEl.classList.add('colab-df-quickchart-complete');\n",
              "    }\n",
              "    (() => {\n",
              "      let quickchartButtonEl =\n",
              "        document.querySelector('#df-377cc936-fbb4-4233-ad5d-ae9633d1d6af button');\n",
              "      quickchartButtonEl.style.display =\n",
              "        google.colab.kernel.accessAllowed ? 'block' : 'none';\n",
              "    })();\n",
              "  </script>\n",
              "</div>\n",
              "\n",
              "    </div>\n",
              "  </div>\n"
            ],
            "application/vnd.google.colaboratory.intrinsic+json": {
              "type": "dataframe",
              "variable_name": "new_df",
              "summary": "{\n  \"name\": \"new_df\",\n  \"rows\": 3522,\n  \"fields\": [\n    {\n      \"column\": \"Course Name\",\n      \"properties\": {\n        \"dtype\": \"string\",\n        \"num_unique_values\": 3416,\n        \"samples\": [\n          \"Create,a,Record,of,Students,using,Arrays,in,Java\",\n          \"Fundamentals,of,financial,and,management,accounting\",\n          \"When,Disaster,Meets,Conflict\"\n        ],\n        \"semantic_type\": \"\",\n        \"description\": \"\"\n      }\n    },\n    {\n      \"column\": \"tags\",\n      \"properties\": {\n        \"dtype\": \"string\",\n        \"num_unique_values\": 3424,\n        \"samples\": [\n          \"The,City,and,You,Find,Your,Best,PlaceBeginnerWelcome,to,The,City,and,You,Find,Your,Best,Place.,I'm,excited,to,have,you,in,the,class,and,look,forward,to,your,contributions,to,the,other,learners,in,our,community.,This,free,course,will,provide,the,knowledge,and,the,tools,needed,to,understand,what,cities,do,why,they,matter,the,forces,shaping,the,greatest,wave,of,urbanization,in,history,and,how,to,pick,the,right,place,for,you.,The,course,will,also,help,you,develop,critical,thinking,skills.,We'll,accomplish,this,by,providing,evidence,of,the,importance,of,cities,and,why,and,how,they,matter,to,you.,Then,we\\ufffdll,ask,you,to,apply,what,you\\ufffdve,learned,in,an,exercise,which,will,help,you,assess,your,own,community,and,find,your,best,place.,,This,course,is,accessible,and,open,to,anyone,who,is,interested,in,learning,more,about,cities,and,the,ways,they,affect,our,lives.,It,is,organized,around,five,key,modules,1,Why,Cities,Matter,,2,A,World,of,Cities,,3,The,Creative,City,4,The,Divided,City,and,the,New,Urban,Crisis,and,5,How,to,Find,the,Best,Place,for,You.,,After,completing,the,course,you,will,be,able,to,,1,Identify,why,cities,are,the,drivers,of,economic,prosperity;,2,Explain,the,drivers,and,implications,of,fast-growing,urbanization,worldwide;,3,Outline,the,key,characteristics,of,a,creative,and,innovative,city;,4,Describe,the,social,divides,and,challenges,facing,cities,and,the,solutions,cities,are,using,to,address,them;,and,5,Recognize,the,trade-offs,of,staying,in,your,current,city,versus,moving,and,identify,the,best,place,for,you,and,your,family,to,live.,Of,course,the,world,has,changed,a,great,deal,since,I,developed,this,course.,The,Global,COVID-19,Pandemic,is,affecting,cities,businesses,and,people,around,the,world.,It,is,something,I,have,been,writing,about,and,working,with,mayors,city,managers,economic,developers,urban,leaders,and,communities,across,the,globe.,I,have,put,together,a,new,module,on,Cities,and,the,Coronavirus,to,help,you,better,understand,the,ways,in,which,the,Covid-19,crisis,is,impacting,cities,and,how,you,can,best,understand,and,deal,with,that.,I\\ufffdd,like,to,wish,each,and,every,one,of,you,good,luck,as,you,get,started,on,this,journey.,I,hope,you,enjoy,the,course!economy  pandemic  global city  financial centre  crisis  global  curiosity  slum  emerging markets  Creativity social-sciences governance-and-society\",\n          \"User,Experience,Research,&,PrototypingAdvancedWhat,makes,for,a,great,user,experience?,How,can,you,consistently,design,experiences,that,work,well,are,easy,to,use,and,people,want,to,use?,This,course,will,teach,you,the,core,process,of,experience,design,and,how,to,effectively,evaluate,your,work,with,the,people,for,whom,you,are,designing.,You'll,learn,fundamental,methods,of,design,research,that,will,enable,you,to,effectively,understand,people,the,sequences,of,their,actions,and,the,context,in,which,they,work.,Through,the,assignments,you\\ufffdll,learn,practical,techniques,for,making,sense,of,what,you,see,and,transform,your,observations,into,meaningful,actionable,insights,and,unique,opportunity,areas,for,design.,You\\ufffdll,also,explore,how,to,generate,ideas,in,response,to,the,opportunities,identified,and,learn,methods,for,making,your,ideas,tangible.,By,answering,specific,questions,and,refining,your,concepts,you\\ufffdll,move,closer,to,making,your,ideas,real.,We\\ufffdll,use,cases,from,a,variety,of,industries,including,health,education,transportation,finance,and,beyond,to,illustrate,how,these,methods,work,across,different,domains.,,Good,luck,and,we,hope,you,enjoy,the,course!i-deas  User Experience  Human Computer Interaction  thought  Map  experience  interview  interaction design  persona user experience  User Research computer-science design-and-product\",\n          \"The,Manager's,Toolkit,A,Practical,Guide,to,Managing,People,at,WorkBeginnerThe,aim,of,this,course,is,to,give,you,a,practical,guide,to,managing,people,at,work.,It,does,not,matter,whether,you,are,a,first,time,manager,in,a,shop,or,a,middle,manager,in,an,office,environment;,the,same,skills,apply,to,every,work,place.,In,the,course,you,will,engage,with,some,HR,theories,and,then,see,how,they,translate,into,every,day,working,life.,,At,the,end,of,the,course,we,hope,you,will,be,better,equipped,to,choose,a,suitable,employee,to,motivate,and,appraise,your,team,to,manage,conflict,in,the,work,place,and,to,lead,and,make,decision,on,a,day,to,day,basis.Leadership and Management  organizational conflict  leadership  Human Resources  conflict resolution  performance appraisal  Conflict Management  interview  Performance Management  performance business leadership-and-management\"\n        ],\n        \"semantic_type\": \"\",\n        \"description\": \"\"\n      }\n    }\n  ]\n}"
            }
          },
          "metadata": {},
          "execution_count": 18
        }
      ],
      "source": [
        "new_df.head(5)"
      ]
    },
    {
      "cell_type": "code",
      "execution_count": null,
      "id": "f716f14c",
      "metadata": {
        "execution": {
          "iopub.execute_input": "2022-01-26T14:19:47.543759Z",
          "iopub.status.busy": "2022-01-26T14:19:47.543010Z",
          "iopub.status.idle": "2022-01-26T14:19:47.568840Z",
          "shell.execute_reply": "2022-01-26T14:19:47.569353Z",
          "shell.execute_reply.started": "2022-01-26T12:57:29.758901Z"
        },
        "papermill": {
          "duration": 0.08545,
          "end_time": "2022-01-26T14:19:47.569554",
          "exception": false,
          "start_time": "2022-01-26T14:19:47.484104",
          "status": "completed"
        },
        "tags": [],
        "colab": {
          "base_uri": "https://localhost:8080/"
        },
        "id": "f716f14c",
        "outputId": "8ac3d09a-9716-4033-849e-13afb7586c2b"
      },
      "outputs": [
        {
          "output_type": "stream",
          "name": "stderr",
          "text": [
            "<ipython-input-19-afdec3ca82bc>:1: SettingWithCopyWarning: \n",
            "A value is trying to be set on a copy of a slice from a DataFrame.\n",
            "Try using .loc[row_indexer,col_indexer] = value instead\n",
            "\n",
            "See the caveats in the documentation: https://pandas.pydata.org/pandas-docs/stable/user_guide/indexing.html#returning-a-view-versus-a-copy\n",
            "  new_df['tags'] = data['tags'].str.replace(',',' ')\n"
          ]
        }
      ],
      "source": [
        "new_df['tags'] = data['tags'].str.replace(',',' ')"
      ]
    },
    {
      "cell_type": "code",
      "execution_count": null,
      "id": "38d9e830",
      "metadata": {
        "execution": {
          "iopub.execute_input": "2022-01-26T14:19:47.688611Z",
          "iopub.status.busy": "2022-01-26T14:19:47.687894Z",
          "iopub.status.idle": "2022-01-26T14:19:47.695125Z",
          "shell.execute_reply": "2022-01-26T14:19:47.695760Z",
          "shell.execute_reply.started": "2022-01-26T12:58:08.296915Z"
        },
        "papermill": {
          "duration": 0.069347,
          "end_time": "2022-01-26T14:19:47.695936",
          "exception": false,
          "start_time": "2022-01-26T14:19:47.626589",
          "status": "completed"
        },
        "tags": [],
        "colab": {
          "base_uri": "https://localhost:8080/"
        },
        "id": "38d9e830",
        "outputId": "4226e500-0328-4ad4-cfda-a735cc19371a"
      },
      "outputs": [
        {
          "output_type": "stream",
          "name": "stderr",
          "text": [
            "<ipython-input-20-6e793e9fa086>:1: SettingWithCopyWarning: \n",
            "A value is trying to be set on a copy of a slice from a DataFrame.\n",
            "Try using .loc[row_indexer,col_indexer] = value instead\n",
            "\n",
            "See the caveats in the documentation: https://pandas.pydata.org/pandas-docs/stable/user_guide/indexing.html#returning-a-view-versus-a-copy\n",
            "  new_df['Course Name'] = data['Course Name'].str.replace(',',' ')\n"
          ]
        }
      ],
      "source": [
        "new_df['Course Name'] = data['Course Name'].str.replace(',',' ')"
      ]
    },
    {
      "cell_type": "code",
      "execution_count": null,
      "id": "3af16b3c",
      "metadata": {
        "execution": {
          "iopub.execute_input": "2022-01-26T14:19:47.817556Z",
          "iopub.status.busy": "2022-01-26T14:19:47.816533Z",
          "iopub.status.idle": "2022-01-26T14:19:47.827197Z",
          "shell.execute_reply": "2022-01-26T14:19:47.827814Z",
          "shell.execute_reply.started": "2022-01-26T12:58:11.491014Z"
        },
        "papermill": {
          "duration": 0.073413,
          "end_time": "2022-01-26T14:19:47.828002",
          "exception": false,
          "start_time": "2022-01-26T14:19:47.754589",
          "status": "completed"
        },
        "tags": [],
        "colab": {
          "base_uri": "https://localhost:8080/"
        },
        "id": "3af16b3c",
        "outputId": "4608301d-0411-4c55-b671-f8da33e903e5"
      },
      "outputs": [
        {
          "output_type": "stream",
          "name": "stderr",
          "text": [
            "<ipython-input-21-626a084aa76c>:1: SettingWithCopyWarning: \n",
            "A value is trying to be set on a copy of a slice from a DataFrame\n",
            "\n",
            "See the caveats in the documentation: https://pandas.pydata.org/pandas-docs/stable/user_guide/indexing.html#returning-a-view-versus-a-copy\n",
            "  new_df.rename(columns = {'Course Name':'course_name'}, inplace = True)\n"
          ]
        }
      ],
      "source": [
        "new_df.rename(columns = {'Course Name':'course_name'}, inplace = True)"
      ]
    },
    {
      "cell_type": "code",
      "execution_count": null,
      "id": "9c65075a",
      "metadata": {
        "execution": {
          "iopub.execute_input": "2022-01-26T14:19:47.949931Z",
          "iopub.status.busy": "2022-01-26T14:19:47.948954Z",
          "iopub.status.idle": "2022-01-26T14:19:47.977325Z",
          "shell.execute_reply": "2022-01-26T14:19:47.977969Z",
          "shell.execute_reply.started": "2022-01-26T12:58:52.731609Z"
        },
        "papermill": {
          "duration": 0.090638,
          "end_time": "2022-01-26T14:19:47.978152",
          "exception": false,
          "start_time": "2022-01-26T14:19:47.887514",
          "status": "completed"
        },
        "tags": [],
        "colab": {
          "base_uri": "https://localhost:8080/"
        },
        "id": "9c65075a",
        "outputId": "7ca0fa6f-4ba9-4720-dc23-9aeea9466c47"
      },
      "outputs": [
        {
          "output_type": "stream",
          "name": "stderr",
          "text": [
            "<ipython-input-22-4cf64f7b4680>:1: SettingWithCopyWarning: \n",
            "A value is trying to be set on a copy of a slice from a DataFrame.\n",
            "Try using .loc[row_indexer,col_indexer] = value instead\n",
            "\n",
            "See the caveats in the documentation: https://pandas.pydata.org/pandas-docs/stable/user_guide/indexing.html#returning-a-view-versus-a-copy\n",
            "  new_df['tags'] = new_df['tags'].apply(lambda x:x.lower()) #lower casing the tags column\n"
          ]
        }
      ],
      "source": [
        "new_df['tags'] = new_df['tags'].apply(lambda x:x.lower()) #lower casing the tags column"
      ]
    },
    {
      "cell_type": "code",
      "execution_count": null,
      "id": "b2bc5584",
      "metadata": {
        "execution": {
          "iopub.execute_input": "2022-01-26T14:19:48.112723Z",
          "iopub.status.busy": "2022-01-26T14:19:48.112045Z",
          "iopub.status.idle": "2022-01-26T14:19:48.121076Z",
          "shell.execute_reply": "2022-01-26T14:19:48.121592Z",
          "shell.execute_reply.started": "2022-01-26T12:58:55.635891Z"
        },
        "papermill": {
          "duration": 0.069732,
          "end_time": "2022-01-26T14:19:48.121783",
          "exception": false,
          "start_time": "2022-01-26T14:19:48.052051",
          "status": "completed"
        },
        "tags": [],
        "colab": {
          "base_uri": "https://localhost:8080/",
          "height": 206
        },
        "id": "b2bc5584",
        "outputId": "bc41f5e7-56fb-4a37-a3a7-66ff39607476"
      },
      "outputs": [
        {
          "output_type": "execute_result",
          "data": {
            "text/plain": [
              "                                         course_name  \\\n",
              "0  Write A Feature Length Screenplay For Film Or ...   \n",
              "1  Business Strategy Business Model Canvas Analys...   \n",
              "2                      Silicon Thin Film Solar Cells   \n",
              "3                               Finance for Managers   \n",
              "4       Retrieve Data using Single-Table SQL Queries   \n",
              "\n",
              "                                                tags  \n",
              "0  write a feature length screenplay for film or ...  \n",
              "1  business strategy business model canvas analys...  \n",
              "2  silicon thin film solar cellsadvancedthis cour...  \n",
              "3  finance for managersintermediatewhen it comes ...  \n",
              "4  retrieve data using single-table sql queriesbe...  "
            ],
            "text/html": [
              "\n",
              "  <div id=\"df-3f96bc5f-2262-4eb3-b86e-ae62f27a5ad5\" class=\"colab-df-container\">\n",
              "    <div>\n",
              "<style scoped>\n",
              "    .dataframe tbody tr th:only-of-type {\n",
              "        vertical-align: middle;\n",
              "    }\n",
              "\n",
              "    .dataframe tbody tr th {\n",
              "        vertical-align: top;\n",
              "    }\n",
              "\n",
              "    .dataframe thead th {\n",
              "        text-align: right;\n",
              "    }\n",
              "</style>\n",
              "<table border=\"1\" class=\"dataframe\">\n",
              "  <thead>\n",
              "    <tr style=\"text-align: right;\">\n",
              "      <th></th>\n",
              "      <th>course_name</th>\n",
              "      <th>tags</th>\n",
              "    </tr>\n",
              "  </thead>\n",
              "  <tbody>\n",
              "    <tr>\n",
              "      <th>0</th>\n",
              "      <td>Write A Feature Length Screenplay For Film Or ...</td>\n",
              "      <td>write a feature length screenplay for film or ...</td>\n",
              "    </tr>\n",
              "    <tr>\n",
              "      <th>1</th>\n",
              "      <td>Business Strategy Business Model Canvas Analys...</td>\n",
              "      <td>business strategy business model canvas analys...</td>\n",
              "    </tr>\n",
              "    <tr>\n",
              "      <th>2</th>\n",
              "      <td>Silicon Thin Film Solar Cells</td>\n",
              "      <td>silicon thin film solar cellsadvancedthis cour...</td>\n",
              "    </tr>\n",
              "    <tr>\n",
              "      <th>3</th>\n",
              "      <td>Finance for Managers</td>\n",
              "      <td>finance for managersintermediatewhen it comes ...</td>\n",
              "    </tr>\n",
              "    <tr>\n",
              "      <th>4</th>\n",
              "      <td>Retrieve Data using Single-Table SQL Queries</td>\n",
              "      <td>retrieve data using single-table sql queriesbe...</td>\n",
              "    </tr>\n",
              "  </tbody>\n",
              "</table>\n",
              "</div>\n",
              "    <div class=\"colab-df-buttons\">\n",
              "\n",
              "  <div class=\"colab-df-container\">\n",
              "    <button class=\"colab-df-convert\" onclick=\"convertToInteractive('df-3f96bc5f-2262-4eb3-b86e-ae62f27a5ad5')\"\n",
              "            title=\"Convert this dataframe to an interactive table.\"\n",
              "            style=\"display:none;\">\n",
              "\n",
              "  <svg xmlns=\"http://www.w3.org/2000/svg\" height=\"24px\" viewBox=\"0 -960 960 960\">\n",
              "    <path d=\"M120-120v-720h720v720H120Zm60-500h600v-160H180v160Zm220 220h160v-160H400v160Zm0 220h160v-160H400v160ZM180-400h160v-160H180v160Zm440 0h160v-160H620v160ZM180-180h160v-160H180v160Zm440 0h160v-160H620v160Z\"/>\n",
              "  </svg>\n",
              "    </button>\n",
              "\n",
              "  <style>\n",
              "    .colab-df-container {\n",
              "      display:flex;\n",
              "      gap: 12px;\n",
              "    }\n",
              "\n",
              "    .colab-df-convert {\n",
              "      background-color: #E8F0FE;\n",
              "      border: none;\n",
              "      border-radius: 50%;\n",
              "      cursor: pointer;\n",
              "      display: none;\n",
              "      fill: #1967D2;\n",
              "      height: 32px;\n",
              "      padding: 0 0 0 0;\n",
              "      width: 32px;\n",
              "    }\n",
              "\n",
              "    .colab-df-convert:hover {\n",
              "      background-color: #E2EBFA;\n",
              "      box-shadow: 0px 1px 2px rgba(60, 64, 67, 0.3), 0px 1px 3px 1px rgba(60, 64, 67, 0.15);\n",
              "      fill: #174EA6;\n",
              "    }\n",
              "\n",
              "    .colab-df-buttons div {\n",
              "      margin-bottom: 4px;\n",
              "    }\n",
              "\n",
              "    [theme=dark] .colab-df-convert {\n",
              "      background-color: #3B4455;\n",
              "      fill: #D2E3FC;\n",
              "    }\n",
              "\n",
              "    [theme=dark] .colab-df-convert:hover {\n",
              "      background-color: #434B5C;\n",
              "      box-shadow: 0px 1px 3px 1px rgba(0, 0, 0, 0.15);\n",
              "      filter: drop-shadow(0px 1px 2px rgba(0, 0, 0, 0.3));\n",
              "      fill: #FFFFFF;\n",
              "    }\n",
              "  </style>\n",
              "\n",
              "    <script>\n",
              "      const buttonEl =\n",
              "        document.querySelector('#df-3f96bc5f-2262-4eb3-b86e-ae62f27a5ad5 button.colab-df-convert');\n",
              "      buttonEl.style.display =\n",
              "        google.colab.kernel.accessAllowed ? 'block' : 'none';\n",
              "\n",
              "      async function convertToInteractive(key) {\n",
              "        const element = document.querySelector('#df-3f96bc5f-2262-4eb3-b86e-ae62f27a5ad5');\n",
              "        const dataTable =\n",
              "          await google.colab.kernel.invokeFunction('convertToInteractive',\n",
              "                                                    [key], {});\n",
              "        if (!dataTable) return;\n",
              "\n",
              "        const docLinkHtml = 'Like what you see? Visit the ' +\n",
              "          '<a target=\"_blank\" href=https://colab.research.google.com/notebooks/data_table.ipynb>data table notebook</a>'\n",
              "          + ' to learn more about interactive tables.';\n",
              "        element.innerHTML = '';\n",
              "        dataTable['output_type'] = 'display_data';\n",
              "        await google.colab.output.renderOutput(dataTable, element);\n",
              "        const docLink = document.createElement('div');\n",
              "        docLink.innerHTML = docLinkHtml;\n",
              "        element.appendChild(docLink);\n",
              "      }\n",
              "    </script>\n",
              "  </div>\n",
              "\n",
              "\n",
              "<div id=\"df-dbe2fd3d-e36c-4d76-a285-9a32fed973e0\">\n",
              "  <button class=\"colab-df-quickchart\" onclick=\"quickchart('df-dbe2fd3d-e36c-4d76-a285-9a32fed973e0')\"\n",
              "            title=\"Suggest charts\"\n",
              "            style=\"display:none;\">\n",
              "\n",
              "<svg xmlns=\"http://www.w3.org/2000/svg\" height=\"24px\"viewBox=\"0 0 24 24\"\n",
              "     width=\"24px\">\n",
              "    <g>\n",
              "        <path d=\"M19 3H5c-1.1 0-2 .9-2 2v14c0 1.1.9 2 2 2h14c1.1 0 2-.9 2-2V5c0-1.1-.9-2-2-2zM9 17H7v-7h2v7zm4 0h-2V7h2v10zm4 0h-2v-4h2v4z\"/>\n",
              "    </g>\n",
              "</svg>\n",
              "  </button>\n",
              "\n",
              "<style>\n",
              "  .colab-df-quickchart {\n",
              "      --bg-color: #E8F0FE;\n",
              "      --fill-color: #1967D2;\n",
              "      --hover-bg-color: #E2EBFA;\n",
              "      --hover-fill-color: #174EA6;\n",
              "      --disabled-fill-color: #AAA;\n",
              "      --disabled-bg-color: #DDD;\n",
              "  }\n",
              "\n",
              "  [theme=dark] .colab-df-quickchart {\n",
              "      --bg-color: #3B4455;\n",
              "      --fill-color: #D2E3FC;\n",
              "      --hover-bg-color: #434B5C;\n",
              "      --hover-fill-color: #FFFFFF;\n",
              "      --disabled-bg-color: #3B4455;\n",
              "      --disabled-fill-color: #666;\n",
              "  }\n",
              "\n",
              "  .colab-df-quickchart {\n",
              "    background-color: var(--bg-color);\n",
              "    border: none;\n",
              "    border-radius: 50%;\n",
              "    cursor: pointer;\n",
              "    display: none;\n",
              "    fill: var(--fill-color);\n",
              "    height: 32px;\n",
              "    padding: 0;\n",
              "    width: 32px;\n",
              "  }\n",
              "\n",
              "  .colab-df-quickchart:hover {\n",
              "    background-color: var(--hover-bg-color);\n",
              "    box-shadow: 0 1px 2px rgba(60, 64, 67, 0.3), 0 1px 3px 1px rgba(60, 64, 67, 0.15);\n",
              "    fill: var(--button-hover-fill-color);\n",
              "  }\n",
              "\n",
              "  .colab-df-quickchart-complete:disabled,\n",
              "  .colab-df-quickchart-complete:disabled:hover {\n",
              "    background-color: var(--disabled-bg-color);\n",
              "    fill: var(--disabled-fill-color);\n",
              "    box-shadow: none;\n",
              "  }\n",
              "\n",
              "  .colab-df-spinner {\n",
              "    border: 2px solid var(--fill-color);\n",
              "    border-color: transparent;\n",
              "    border-bottom-color: var(--fill-color);\n",
              "    animation:\n",
              "      spin 1s steps(1) infinite;\n",
              "  }\n",
              "\n",
              "  @keyframes spin {\n",
              "    0% {\n",
              "      border-color: transparent;\n",
              "      border-bottom-color: var(--fill-color);\n",
              "      border-left-color: var(--fill-color);\n",
              "    }\n",
              "    20% {\n",
              "      border-color: transparent;\n",
              "      border-left-color: var(--fill-color);\n",
              "      border-top-color: var(--fill-color);\n",
              "    }\n",
              "    30% {\n",
              "      border-color: transparent;\n",
              "      border-left-color: var(--fill-color);\n",
              "      border-top-color: var(--fill-color);\n",
              "      border-right-color: var(--fill-color);\n",
              "    }\n",
              "    40% {\n",
              "      border-color: transparent;\n",
              "      border-right-color: var(--fill-color);\n",
              "      border-top-color: var(--fill-color);\n",
              "    }\n",
              "    60% {\n",
              "      border-color: transparent;\n",
              "      border-right-color: var(--fill-color);\n",
              "    }\n",
              "    80% {\n",
              "      border-color: transparent;\n",
              "      border-right-color: var(--fill-color);\n",
              "      border-bottom-color: var(--fill-color);\n",
              "    }\n",
              "    90% {\n",
              "      border-color: transparent;\n",
              "      border-bottom-color: var(--fill-color);\n",
              "    }\n",
              "  }\n",
              "</style>\n",
              "\n",
              "  <script>\n",
              "    async function quickchart(key) {\n",
              "      const quickchartButtonEl =\n",
              "        document.querySelector('#' + key + ' button');\n",
              "      quickchartButtonEl.disabled = true;  // To prevent multiple clicks.\n",
              "      quickchartButtonEl.classList.add('colab-df-spinner');\n",
              "      try {\n",
              "        const charts = await google.colab.kernel.invokeFunction(\n",
              "            'suggestCharts', [key], {});\n",
              "      } catch (error) {\n",
              "        console.error('Error during call to suggestCharts:', error);\n",
              "      }\n",
              "      quickchartButtonEl.classList.remove('colab-df-spinner');\n",
              "      quickchartButtonEl.classList.add('colab-df-quickchart-complete');\n",
              "    }\n",
              "    (() => {\n",
              "      let quickchartButtonEl =\n",
              "        document.querySelector('#df-dbe2fd3d-e36c-4d76-a285-9a32fed973e0 button');\n",
              "      quickchartButtonEl.style.display =\n",
              "        google.colab.kernel.accessAllowed ? 'block' : 'none';\n",
              "    })();\n",
              "  </script>\n",
              "</div>\n",
              "\n",
              "    </div>\n",
              "  </div>\n"
            ],
            "application/vnd.google.colaboratory.intrinsic+json": {
              "type": "dataframe",
              "variable_name": "new_df",
              "summary": "{\n  \"name\": \"new_df\",\n  \"rows\": 3522,\n  \"fields\": [\n    {\n      \"column\": \"course_name\",\n      \"properties\": {\n        \"dtype\": \"string\",\n        \"num_unique_values\": 3416,\n        \"samples\": [\n          \"Create a Record of Students using Arrays in Java\",\n          \"Fundamentals of financial and management accounting\",\n          \"When Disaster Meets Conflict\"\n        ],\n        \"semantic_type\": \"\",\n        \"description\": \"\"\n      }\n    },\n    {\n      \"column\": \"tags\",\n      \"properties\": {\n        \"dtype\": \"string\",\n        \"num_unique_values\": 3424,\n        \"samples\": [\n          \"the city and you find your best placebeginnerwelcome to the city and you find your best place. i'm excited to have you in the class and look forward to your contributions to the other learners in our community. this free course will provide the knowledge and the tools needed to understand what cities do why they matter the forces shaping the greatest wave of urbanization in history and how to pick the right place for you. the course will also help you develop critical thinking skills. we'll accomplish this by providing evidence of the importance of cities and why and how they matter to you. then we\\ufffdll ask you to apply what you\\ufffdve learned in an exercise which will help you assess your own community and find your best place.  this course is accessible and open to anyone who is interested in learning more about cities and the ways they affect our lives. it is organized around five key modules 1 why cities matter  2 a world of cities  3 the creative city 4 the divided city and the new urban crisis and 5 how to find the best place for you.  after completing the course you will be able to  1 identify why cities are the drivers of economic prosperity; 2 explain the drivers and implications of fast-growing urbanization worldwide; 3 outline the key characteristics of a creative and innovative city; 4 describe the social divides and challenges facing cities and the solutions cities are using to address them; and 5 recognize the trade-offs of staying in your current city versus moving and identify the best place for you and your family to live. of course the world has changed a great deal since i developed this course. the global covid-19 pandemic is affecting cities businesses and people around the world. it is something i have been writing about and working with mayors city managers economic developers urban leaders and communities across the globe. i have put together a new module on cities and the coronavirus to help you better understand the ways in which the covid-19 crisis is impacting cities and how you can best understand and deal with that. i\\ufffdd like to wish each and every one of you good luck as you get started on this journey. i hope you enjoy the course!economy  pandemic  global city  financial centre  crisis  global  curiosity  slum  emerging markets  creativity social-sciences governance-and-society\",\n          \"user experience research & prototypingadvancedwhat makes for a great user experience? how can you consistently design experiences that work well are easy to use and people want to use? this course will teach you the core process of experience design and how to effectively evaluate your work with the people for whom you are designing. you'll learn fundamental methods of design research that will enable you to effectively understand people the sequences of their actions and the context in which they work. through the assignments you\\ufffdll learn practical techniques for making sense of what you see and transform your observations into meaningful actionable insights and unique opportunity areas for design. you\\ufffdll also explore how to generate ideas in response to the opportunities identified and learn methods for making your ideas tangible. by answering specific questions and refining your concepts you\\ufffdll move closer to making your ideas real. we\\ufffdll use cases from a variety of industries including health education transportation finance and beyond to illustrate how these methods work across different domains.  good luck and we hope you enjoy the course!i-deas  user experience  human computer interaction  thought  map  experience  interview  interaction design  persona user experience  user research computer-science design-and-product\",\n          \"the manager's toolkit a practical guide to managing people at workbeginnerthe aim of this course is to give you a practical guide to managing people at work. it does not matter whether you are a first time manager in a shop or a middle manager in an office environment; the same skills apply to every work place. in the course you will engage with some hr theories and then see how they translate into every day working life.  at the end of the course we hope you will be better equipped to choose a suitable employee to motivate and appraise your team to manage conflict in the work place and to lead and make decision on a day to day basis.leadership and management  organizational conflict  leadership  human resources  conflict resolution  performance appraisal  conflict management  interview  performance management  performance business leadership-and-management\"\n        ],\n        \"semantic_type\": \"\",\n        \"description\": \"\"\n      }\n    }\n  ]\n}"
            }
          },
          "metadata": {},
          "execution_count": 23
        }
      ],
      "source": [
        "new_df.head(5)"
      ]
    },
    {
      "cell_type": "code",
      "execution_count": null,
      "id": "66db7225",
      "metadata": {
        "execution": {
          "iopub.execute_input": "2022-01-26T14:19:48.240478Z",
          "iopub.status.busy": "2022-01-26T14:19:48.239827Z",
          "iopub.status.idle": "2022-01-26T14:19:48.244379Z",
          "shell.execute_reply": "2022-01-26T14:19:48.244875Z",
          "shell.execute_reply.started": "2022-01-26T12:59:36.995288Z"
        },
        "papermill": {
          "duration": 0.065828,
          "end_time": "2022-01-26T14:19:48.245060",
          "exception": false,
          "start_time": "2022-01-26T14:19:48.179232",
          "status": "completed"
        },
        "tags": [],
        "colab": {
          "base_uri": "https://localhost:8080/"
        },
        "id": "66db7225",
        "outputId": "67989c34-da1e-4406-e014-454358914578"
      },
      "outputs": [
        {
          "output_type": "execute_result",
          "data": {
            "text/plain": [
              "(3522, 2)"
            ]
          },
          "metadata": {},
          "execution_count": 24
        }
      ],
      "source": [
        "new_df.shape #3522 courses with tags and 2 columns (course_name and tags)"
      ]
    },
    {
      "cell_type": "markdown",
      "id": "4a5083c5",
      "metadata": {
        "papermill": {
          "duration": 0.060035,
          "end_time": "2022-01-26T14:19:48.362969",
          "exception": false,
          "start_time": "2022-01-26T14:19:48.302934",
          "status": "completed"
        },
        "tags": [],
        "id": "4a5083c5"
      },
      "source": [
        "# Text Vectorization"
      ]
    },
    {
      "cell_type": "code",
      "execution_count": null,
      "id": "4e13af12",
      "metadata": {
        "execution": {
          "iopub.execute_input": "2022-01-26T14:19:48.484188Z",
          "iopub.status.busy": "2022-01-26T14:19:48.483520Z",
          "iopub.status.idle": "2022-01-26T14:19:48.622802Z",
          "shell.execute_reply": "2022-01-26T14:19:48.622207Z",
          "shell.execute_reply.started": "2022-01-26T13:00:20.637145Z"
        },
        "papermill": {
          "duration": 0.201577,
          "end_time": "2022-01-26T14:19:48.622967",
          "exception": false,
          "start_time": "2022-01-26T14:19:48.421390",
          "status": "completed"
        },
        "tags": [],
        "id": "4e13af12"
      },
      "outputs": [],
      "source": [
        "from sklearn.feature_extraction.text import CountVectorizer"
      ]
    },
    {
      "cell_type": "code",
      "execution_count": null,
      "id": "e6372627",
      "metadata": {
        "execution": {
          "iopub.execute_input": "2022-01-26T14:19:48.746790Z",
          "iopub.status.busy": "2022-01-26T14:19:48.746084Z",
          "iopub.status.idle": "2022-01-26T14:19:48.748607Z",
          "shell.execute_reply": "2022-01-26T14:19:48.748074Z",
          "shell.execute_reply.started": "2022-01-26T13:00:25.765271Z"
        },
        "papermill": {
          "duration": 0.06615,
          "end_time": "2022-01-26T14:19:48.748745",
          "exception": false,
          "start_time": "2022-01-26T14:19:48.682595",
          "status": "completed"
        },
        "tags": [],
        "id": "e6372627"
      },
      "outputs": [],
      "source": [
        "cv = CountVectorizer(max_features=5000,stop_words='english')"
      ]
    },
    {
      "cell_type": "code",
      "execution_count": null,
      "id": "7d43550e",
      "metadata": {
        "execution": {
          "iopub.execute_input": "2022-01-26T14:19:48.868706Z",
          "iopub.status.busy": "2022-01-26T14:19:48.868015Z",
          "iopub.status.idle": "2022-01-26T14:19:49.836960Z",
          "shell.execute_reply": "2022-01-26T14:19:49.837458Z",
          "shell.execute_reply.started": "2022-01-26T13:00:30.470945Z"
        },
        "papermill": {
          "duration": 1.030812,
          "end_time": "2022-01-26T14:19:49.837694",
          "exception": false,
          "start_time": "2022-01-26T14:19:48.806882",
          "status": "completed"
        },
        "tags": [],
        "id": "7d43550e"
      },
      "outputs": [],
      "source": [
        "vectors = cv.fit_transform(new_df['tags']).toarray()"
      ]
    },
    {
      "cell_type": "markdown",
      "id": "0cfa085e",
      "metadata": {
        "papermill": {
          "duration": 0.059295,
          "end_time": "2022-01-26T14:19:49.956538",
          "exception": false,
          "start_time": "2022-01-26T14:19:49.897243",
          "status": "completed"
        },
        "tags": [],
        "id": "0cfa085e"
      },
      "source": [
        "# Stemming Process"
      ]
    },
    {
      "cell_type": "code",
      "execution_count": null,
      "id": "766e85f8",
      "metadata": {
        "execution": {
          "iopub.execute_input": "2022-01-26T14:19:50.079154Z",
          "iopub.status.busy": "2022-01-26T14:19:50.078376Z",
          "iopub.status.idle": "2022-01-26T14:19:50.720939Z",
          "shell.execute_reply": "2022-01-26T14:19:50.720340Z",
          "shell.execute_reply.started": "2022-01-26T13:00:50.236008Z"
        },
        "papermill": {
          "duration": 0.70524,
          "end_time": "2022-01-26T14:19:50.721119",
          "exception": false,
          "start_time": "2022-01-26T14:19:50.015879",
          "status": "completed"
        },
        "tags": [],
        "id": "766e85f8"
      },
      "outputs": [],
      "source": [
        "import nltk #for stemming process"
      ]
    },
    {
      "cell_type": "code",
      "execution_count": null,
      "id": "50725a4b",
      "metadata": {
        "execution": {
          "iopub.execute_input": "2022-01-26T14:19:50.844107Z",
          "iopub.status.busy": "2022-01-26T14:19:50.843400Z",
          "iopub.status.idle": "2022-01-26T14:19:50.847403Z",
          "shell.execute_reply": "2022-01-26T14:19:50.847932Z",
          "shell.execute_reply.started": "2022-01-26T13:00:55.372687Z"
        },
        "papermill": {
          "duration": 0.066187,
          "end_time": "2022-01-26T14:19:50.848117",
          "exception": false,
          "start_time": "2022-01-26T14:19:50.781930",
          "status": "completed"
        },
        "tags": [],
        "id": "50725a4b"
      },
      "outputs": [],
      "source": [
        "from nltk.stem.porter import PorterStemmer\n",
        "ps = PorterStemmer()"
      ]
    },
    {
      "cell_type": "code",
      "execution_count": null,
      "id": "9710abff",
      "metadata": {
        "execution": {
          "iopub.execute_input": "2022-01-26T14:19:50.970441Z",
          "iopub.status.busy": "2022-01-26T14:19:50.969372Z",
          "iopub.status.idle": "2022-01-26T14:19:50.974055Z",
          "shell.execute_reply": "2022-01-26T14:19:50.974518Z",
          "shell.execute_reply.started": "2022-01-26T13:01:26.727138Z"
        },
        "papermill": {
          "duration": 0.067833,
          "end_time": "2022-01-26T14:19:50.974701",
          "exception": false,
          "start_time": "2022-01-26T14:19:50.906868",
          "status": "completed"
        },
        "tags": [],
        "id": "9710abff"
      },
      "outputs": [],
      "source": [
        "#defining the stemming function\n",
        "def stem(text):\n",
        "    y=[]\n",
        "\n",
        "    for i in text.split():\n",
        "        y.append(ps.stem(i))\n",
        "\n",
        "    return \" \".join(y)"
      ]
    },
    {
      "cell_type": "code",
      "execution_count": null,
      "id": "51c560be",
      "metadata": {
        "execution": {
          "iopub.execute_input": "2022-01-26T14:19:51.096458Z",
          "iopub.status.busy": "2022-01-26T14:19:51.095435Z",
          "iopub.status.idle": "2022-01-26T14:20:09.833321Z",
          "shell.execute_reply": "2022-01-26T14:20:09.834233Z",
          "shell.execute_reply.started": "2022-01-26T13:02:02.700396Z"
        },
        "papermill": {
          "duration": 18.800875,
          "end_time": "2022-01-26T14:20:09.834414",
          "exception": false,
          "start_time": "2022-01-26T14:19:51.033539",
          "status": "completed"
        },
        "tags": [],
        "colab": {
          "base_uri": "https://localhost:8080/"
        },
        "id": "51c560be",
        "outputId": "b6b3d152-85eb-4f61-d4b8-4b7ef74e1d9b"
      },
      "outputs": [
        {
          "output_type": "stream",
          "name": "stderr",
          "text": [
            "<ipython-input-31-edae1a2ddc5e>:1: SettingWithCopyWarning: \n",
            "A value is trying to be set on a copy of a slice from a DataFrame.\n",
            "Try using .loc[row_indexer,col_indexer] = value instead\n",
            "\n",
            "See the caveats in the documentation: https://pandas.pydata.org/pandas-docs/stable/user_guide/indexing.html#returning-a-view-versus-a-copy\n",
            "  new_df['tags'] = new_df['tags'].apply(stem) #applying stemming on the tags column\n"
          ]
        }
      ],
      "source": [
        "new_df['tags'] = new_df['tags'].apply(stem) #applying stemming on the tags column"
      ]
    },
    {
      "cell_type": "markdown",
      "id": "e6ee86c9",
      "metadata": {
        "papermill": {
          "duration": 0.059879,
          "end_time": "2022-01-26T14:20:09.952432",
          "exception": false,
          "start_time": "2022-01-26T14:20:09.892553",
          "status": "completed"
        },
        "tags": [],
        "id": "e6ee86c9"
      },
      "source": [
        "# Similarity Measure"
      ]
    },
    {
      "cell_type": "code",
      "execution_count": null,
      "id": "9b4f80e4",
      "metadata": {
        "execution": {
          "iopub.execute_input": "2022-01-26T14:20:10.075324Z",
          "iopub.status.busy": "2022-01-26T14:20:10.074250Z",
          "iopub.status.idle": "2022-01-26T14:20:10.078349Z",
          "shell.execute_reply": "2022-01-26T14:20:10.078920Z",
          "shell.execute_reply.started": "2022-01-26T13:02:27.946429Z"
        },
        "papermill": {
          "duration": 0.067769,
          "end_time": "2022-01-26T14:20:10.079103",
          "exception": false,
          "start_time": "2022-01-26T14:20:10.011334",
          "status": "completed"
        },
        "tags": [],
        "id": "9b4f80e4"
      },
      "outputs": [],
      "source": [
        "from sklearn.metrics.pairwise import cosine_similarity"
      ]
    },
    {
      "cell_type": "code",
      "execution_count": null,
      "id": "26fcc651",
      "metadata": {
        "execution": {
          "iopub.execute_input": "2022-01-26T14:20:10.201244Z",
          "iopub.status.busy": "2022-01-26T14:20:10.200570Z",
          "iopub.status.idle": "2022-01-26T14:20:11.472233Z",
          "shell.execute_reply": "2022-01-26T14:20:11.473186Z",
          "shell.execute_reply.started": "2022-01-26T13:02:34.205466Z"
        },
        "papermill": {
          "duration": 1.335405,
          "end_time": "2022-01-26T14:20:11.473497",
          "exception": false,
          "start_time": "2022-01-26T14:20:10.138092",
          "status": "completed"
        },
        "tags": [],
        "id": "26fcc651"
      },
      "outputs": [],
      "source": [
        "similarity = cosine_similarity(vectors)"
      ]
    },
    {
      "cell_type": "markdown",
      "id": "100bd489",
      "metadata": {
        "papermill": {
          "duration": 0.059252,
          "end_time": "2022-01-26T14:20:11.619088",
          "exception": false,
          "start_time": "2022-01-26T14:20:11.559836",
          "status": "completed"
        },
        "tags": [],
        "id": "100bd489"
      },
      "source": [
        "# Recommendation Function"
      ]
    },
    {
      "cell_type": "code",
      "execution_count": null,
      "id": "b0e15b2b",
      "metadata": {
        "execution": {
          "iopub.execute_input": "2022-01-26T14:20:11.745691Z",
          "iopub.status.busy": "2022-01-26T14:20:11.744935Z",
          "iopub.status.idle": "2022-01-26T14:20:11.746394Z",
          "shell.execute_reply": "2022-01-26T14:20:11.746994Z",
          "shell.execute_reply.started": "2022-01-26T13:03:26.756125Z"
        },
        "papermill": {
          "duration": 0.068387,
          "end_time": "2022-01-26T14:20:11.747173",
          "exception": false,
          "start_time": "2022-01-26T14:20:11.678786",
          "status": "completed"
        },
        "tags": [],
        "id": "b0e15b2b"
      },
      "outputs": [],
      "source": [
        "def recommend(course):\n",
        "    course_index = new_df[new_df['course_name'] == course].index[0]\n",
        "    distances = similarity[course_index]\n",
        "    course_list = sorted(list(enumerate(distances)),reverse=True, key=lambda x:x[1])[1:7]\n",
        "\n",
        "    for i in course_list:\n",
        "        print(new_df.iloc[i[0]].course_name)"
      ]
    },
    {
      "cell_type": "code",
      "execution_count": null,
      "id": "0ba0466e",
      "metadata": {
        "execution": {
          "iopub.execute_input": "2022-01-26T14:20:11.872210Z",
          "iopub.status.busy": "2022-01-26T14:20:11.871269Z",
          "iopub.status.idle": "2022-01-26T14:20:11.884642Z",
          "shell.execute_reply": "2022-01-26T14:20:11.885341Z",
          "shell.execute_reply.started": "2022-01-26T13:03:28.042547Z"
        },
        "papermill": {
          "duration": 0.076619,
          "end_time": "2022-01-26T14:20:11.885608",
          "exception": false,
          "start_time": "2022-01-26T14:20:11.808989",
          "status": "completed"
        },
        "tags": [],
        "colab": {
          "base_uri": "https://localhost:8080/"
        },
        "id": "0ba0466e",
        "outputId": "d3311373-3e3f-417c-8b21-ca670e039e3d"
      },
      "outputs": [
        {
          "output_type": "stream",
          "name": "stdout",
          "text": [
            "Product Development Customer Persona Development with Miro\n",
            "Product and Service Development Empathy Mapping with Miro\n",
            "Product Development Customer Journey Mapping with Miro\n",
            "Analyzing Macro-Environmental Factors Using Creately\n",
            "Business Strategy in Practice (Project-centered Course)\n",
            "Innovating with the Business Model Canvas\n"
          ]
        }
      ],
      "source": [
        "recommend('Business Strategy Business Model Canvas Analysis with Miro')"
      ]
    },
    {
      "cell_type": "markdown",
      "id": "bf9e8456",
      "metadata": {
        "papermill": {
          "duration": 0.060079,
          "end_time": "2022-01-26T14:20:12.007234",
          "exception": false,
          "start_time": "2022-01-26T14:20:11.947155",
          "status": "completed"
        },
        "tags": [],
        "id": "bf9e8456"
      },
      "source": [
        "**So these are the 6 courses which are recommended based on our search in the recommendation function**"
      ]
    },
    {
      "cell_type": "markdown",
      "id": "973c1cdf",
      "metadata": {
        "papermill": {
          "duration": 0.060412,
          "end_time": "2022-01-26T14:20:12.130219",
          "exception": false,
          "start_time": "2022-01-26T14:20:12.069807",
          "status": "completed"
        },
        "tags": [],
        "id": "973c1cdf"
      },
      "source": [
        "# Exporting the Model"
      ]
    },
    {
      "cell_type": "code",
      "execution_count": null,
      "id": "949dc95b",
      "metadata": {
        "execution": {
          "iopub.execute_input": "2022-01-26T14:20:12.253179Z",
          "iopub.status.busy": "2022-01-26T14:20:12.252427Z",
          "iopub.status.idle": "2022-01-26T14:20:12.255671Z",
          "shell.execute_reply": "2022-01-26T14:20:12.256173Z",
          "shell.execute_reply.started": "2022-01-26T13:04:30.184632Z"
        },
        "papermill": {
          "duration": 0.066666,
          "end_time": "2022-01-26T14:20:12.256353",
          "exception": false,
          "start_time": "2022-01-26T14:20:12.189687",
          "status": "completed"
        },
        "tags": [],
        "id": "949dc95b"
      },
      "outputs": [],
      "source": [
        "import pickle"
      ]
    },
    {
      "cell_type": "code",
      "execution_count": null,
      "id": "6c7ef9d3",
      "metadata": {
        "execution": {
          "iopub.execute_input": "2022-01-26T14:20:12.386331Z",
          "iopub.status.busy": "2022-01-26T14:20:12.385507Z",
          "iopub.status.idle": "2022-01-26T14:20:12.388317Z",
          "shell.execute_reply": "2022-01-26T14:20:12.388854Z",
          "shell.execute_reply.started": "2022-01-26T13:05:01.974915Z"
        },
        "papermill": {
          "duration": 0.068209,
          "end_time": "2022-01-26T14:20:12.389043",
          "exception": false,
          "start_time": "2022-01-26T14:20:12.320834",
          "status": "completed"
        },
        "tags": [],
        "id": "6c7ef9d3"
      },
      "outputs": [],
      "source": [
        "# pickle.dump(similarity,open('similarity.pkl','wb'))\n",
        "# pickle.dump(new_df.to_dict(),open('course_list.pkl','wb')) #contains the dataframe in dict\n",
        "# pickle.dump(new_df,open('courses.pkl','wb'))"
      ]
    },
    {
      "cell_type": "code",
      "source": [
        "print(len(new_df))"
      ],
      "metadata": {
        "colab": {
          "base_uri": "https://localhost:8080/"
        },
        "id": "5MfyOLseteyO",
        "outputId": "ad22270f-fee4-4ed8-c50f-72c50c9bc21a"
      },
      "id": "5MfyOLseteyO",
      "execution_count": null,
      "outputs": [
        {
          "output_type": "stream",
          "name": "stdout",
          "text": [
            "3522\n"
          ]
        }
      ]
    },
    {
      "cell_type": "code",
      "source": [
        "import numpy as np\n",
        "\n",
        "# Check if the new_df dataframe is empty\n",
        "if len(new_df) == 0:\n",
        "    raise ValueError(\"The new_df dataframe is empty. Please check the code that populates it.\")\n",
        "\n",
        "# Continue with the rest of the code...\n",
        "# Define a function to recommend courses (this should be part of your existing code)\n",
        "# Recommendation Function\n",
        "def recommend(course, new_df, similarity, num_recommendations=6):\n",
        "    if course in new_df['course_name'].values:\n",
        "        course_index = new_df[new_df['course_name'] == course].index[0]\n",
        "    else:\n",
        "        raise ValueError(f\"Course '{course}' not found in the dataframe.\")\n",
        "    distances = similarity[course_index]\n",
        "    course_list = sorted(list(enumerate(distances)), reverse=True, key=lambda x: x[1])[1:num_recommendations+1]\n",
        "    recommended_courses = [new_df.iloc[i[0]].course_name for i in course_list]\n",
        "    return recommended_courses\n",
        "\n",
        "# Define the evaluation function\n",
        "def evaluate_recommendations(course, recommended_courses, relevant_courses):\n",
        "    true_positives = len(set(recommended_courses) & set(relevant_courses))\n",
        "    precision = true_positives / len(recommended_courses) if recommended_courses else 0\n",
        "    recall = true_positives / len(relevant_courses) if relevant_courses else 0\n",
        "    f1_score = 2 * (precision * recall) / (precision + recall) if (precision + recall) > 0 else 0\n",
        "\n",
        "    return precision, recall, f1_score\n",
        "\n",
        "# Example ground truth data (relevant courses for each course)\n",
        "ground_truth = {\n",
        "    'Introduction to Python': ['Create Your First Python Program', 'Create Your First Game with Python', 'Exception Handling In Python','Python Basics Create a Guessing Number Game from Scratch','Create Your First Web App with Python and Flask'],\n",
        "    # Add more ground truth data here\n",
        "}\n",
        "\n",
        "# Evaluate the model\n",
        "precision_scores = []\n",
        "recall_scores = []\n",
        "f1_scores = []\n",
        "\n",
        "for course, relevant_courses in ground_truth.items():\n",
        "    try:\n",
        "        recommended_courses = recommend(course, new_df, similarity)\n",
        "        precision, recall, f1_score = evaluate_recommendations(course, recommended_courses, relevant_courses)\n",
        "        precision_scores.append(precision)\n",
        "        recall_scores.append(recall)\n",
        "        f1_scores.append(f1_score)\n",
        "        print(f\"Course: {course}\")\n",
        "        print(f\"Recommended: {recommended_courses}\")\n",
        "        print(f\"Relevant: {relevant_courses}\")\n",
        "        print(f\"Precision: {precision:.2f}, Recall: {recall:.2f}, F1 Score: {f1_score:.2f}\\n\")\n",
        "    except ValueError as e:\n",
        "        print(e)\n",
        "\n",
        "# Calculate average metrics\n",
        "avg_precision = np.mean(precision_scores)\n",
        "avg_recall = np.mean(recall_scores)\n",
        "avg_f1_score = np.mean(f1_scores)\n",
        "\n",
        "print(f\"Average Precision: {avg_precision:.2f}\")\n",
        "print(f\"Average Recall: {avg_recall:.2f}\")\n",
        "print(f\"Average F1 Score: {avg_f1_score:.2f}\")\n",
        "\n",
        "# Exporting the Model\n",
        "import pickle\n",
        "\n",
        "pickle.dump(similarity, open('similarity.pkl', 'wb'))\n",
        "pickle.dump(new_df.to_dict(), open('course_list.pkl', 'wb'))  # contains the dataframe in dict\n",
        "pickle.dump(new_df, open('courses.pkl', 'wb'))"
      ],
      "metadata": {
        "colab": {
          "base_uri": "https://localhost:8080/"
        },
        "id": "hseNvpWWDSNS",
        "outputId": "0d7afa03-15f5-44a0-c3b2-8c864eba0faf"
      },
      "id": "hseNvpWWDSNS",
      "execution_count": null,
      "outputs": [
        {
          "output_type": "stream",
          "name": "stdout",
          "text": [
            "Course: Introduction to Python\n",
            "Recommended: ['Python Basics Create a Guessing Number Game from Scratch', 'Create Your First Python Program', 'Create Your First Game with Python', 'Build a Guessing Game Application using Java', 'Create an interactive fiction adventure game with Python', 'Create Your First Web App with Python and Flask']\n",
            "Relevant: ['Create Your First Python Program', 'Create Your First Game with Python', 'Exception Handling In Python', 'Python Basics Create a Guessing Number Game from Scratch', 'Create Your First Web App with Python and Flask']\n",
            "Precision: 0.67, Recall: 0.80, F1 Score: 0.73\n",
            "\n",
            "Average Precision: 0.67\n",
            "Average Recall: 0.80\n",
            "Average F1 Score: 0.73\n"
          ]
        }
      ]
    },
    {
      "cell_type": "code",
      "source": [
        "filtered_data = data[data['Course Name'].str.contains('Python')]\n",
        "print(filtered_data.head(8))"
      ],
      "metadata": {
        "colab": {
          "base_uri": "https://localhost:8080/"
        },
        "id": "nWJCvzOpq3TY",
        "outputId": "1bb8d4df-3033-4192-e4e8-23c15c40b9de"
      },
      "id": "nWJCvzOpq3TY",
      "execution_count": null,
      "outputs": [
        {
          "output_type": "stream",
          "name": "stdout",
          "text": [
            "                                           Course Name Difficulty Level  \\\n",
            "16                       Python,Programming,Essentials         Beginner   \n",
            "62            Python,Tricks,and,Hacks,for,Productivity         Advanced   \n",
            "115                       Exception,Handling,in,Python         Beginner   \n",
            "178  Using,Python,to,Interact,with,the,Operating,Sy...         Advanced   \n",
            "196  AWS,Elastic,BeanstalkDeploy,a,Python(Flask),We...         Beginner   \n",
            "239  Applied,Plotting,Charting,&,Data,Representatio...         Advanced   \n",
            "294                             Introduction,to,Python         Beginner   \n",
            "305                             Python,Data,Structures       Conversant   \n",
            "\n",
            "                                    Course Description  \\\n",
            "16   This,course,will,introduce,you,to,the,wonderfu...   \n",
            "62   By,the,end,of,this,project,you,are,going,to,be...   \n",
            "115  In,this,1-hour,long,project-based,course,you,w...   \n",
            "178  By,the,end,of,this,course,you�ll,be,able,to,ma...   \n",
            "196  In,this,1-hour,long,project-based,course,you,w...   \n",
            "239  This,course,will,introduce,the,learner,to,info...   \n",
            "294  Learning,Python,gives,the,programmer,a,wide,va...   \n",
            "305  This,course,will,introduce,the,core,data,struc...   \n",
            "\n",
            "                                                Skills  \\\n",
            "16   semantics  Python Programming  coding conventi...   \n",
            "62   Computer Programming  Transpose  concision  Py...   \n",
            "115  Python Programming  exception handling  relati...   \n",
            "178  unix  file system  unit testing  regular expre...   \n",
            "196  Python Programming  server log  c dynamic memo...   \n",
            "239  Data Analysis  Chart  Matplotlib  analysis  Sc...   \n",
            "294  Computer Programming  computer program  Python...   \n",
            "305  dict  Python Programming  python syntax and se...   \n",
            "\n",
            "                                                  tags  \n",
            "16   Python,Programming,EssentialsBeginnerThis,cour...  \n",
            "62   Python,Tricks,and,Hacks,for,ProductivityAdvanc...  \n",
            "115  Exception,Handling,in,PythonBeginnerIn,this,1-...  \n",
            "178  Using,Python,to,Interact,with,the,Operating,Sy...  \n",
            "196  AWS,Elastic,BeanstalkDeploy,a,Python(Flask),We...  \n",
            "239  Applied,Plotting,Charting,&,Data,Representatio...  \n",
            "294  Introduction,to,PythonBeginnerLearning,Python,...  \n",
            "305  Python,Data,StructuresConversantThis,course,wi...  \n"
          ]
        }
      ]
    }
  ],
  "metadata": {
    "kernelspec": {
      "display_name": "Python 3",
      "language": "python",
      "name": "python3"
    },
    "language_info": {
      "codemirror_mode": {
        "name": "ipython",
        "version": 3
      },
      "file_extension": ".py",
      "mimetype": "text/x-python",
      "name": "python",
      "nbconvert_exporter": "python",
      "pygments_lexer": "ipython3",
      "version": "3.7.12"
    },
    "papermill": {
      "default_parameters": {},
      "duration": 40.65955,
      "end_time": "2022-01-26T14:20:13.730648",
      "environment_variables": {},
      "exception": null,
      "input_path": "__notebook__.ipynb",
      "output_path": "__notebook__.ipynb",
      "parameters": {},
      "start_time": "2022-01-26T14:19:33.071098",
      "version": "2.3.3"
    },
    "colab": {
      "provenance": []
    }
  },
  "nbformat": 4,
  "nbformat_minor": 5
}